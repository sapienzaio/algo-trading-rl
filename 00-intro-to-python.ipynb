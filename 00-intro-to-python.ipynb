{
 "cells": [
  {
   "cell_type": "markdown",
   "id": "186671d9",
   "metadata": {},
   "source": [
    "# WELCOME TO PYTHON"
   ]
  },
  {
   "cell_type": "markdown",
   "id": "e4883b72",
   "metadata": {},
   "source": [
    "```\n",
    "This will be a (brief) introduction to Python using Jupyter notebooks.\n",
    "Roughly, we are going to cover the following material:\n",
    "\n",
    "1) Strings, int, float, dict, lists, sets\n",
    "2) functions\n",
    "3) numpy\n",
    "4) matplotlib\n",
    "```"
   ]
  },
  {
   "cell_type": "markdown",
   "id": "4c9abbb5",
   "metadata": {},
   "source": [
    "```\n",
    "The above is far from comprehensive but covers all of the essentials needed for the course.\n",
    "```"
   ]
  },
  {
   "cell_type": "markdown",
   "id": "45fd607d",
   "metadata": {},
   "source": [
    "## Let's start with 'str'"
   ]
  },
  {
   "cell_type": "markdown",
   "id": "17f8547d",
   "metadata": {},
   "source": [
    "Strings are used quite frequently within Python. To create a string just have text between \" \" or ' ', for example:"
   ]
  },
  {
   "cell_type": "code",
   "execution_count": 1,
   "id": "13c39028",
   "metadata": {},
   "outputs": [
    {
     "data": {
      "text/plain": [
       "str"
      ]
     },
     "execution_count": 1,
     "metadata": {},
     "output_type": "execute_result"
    }
   ],
   "source": [
    "type(\"this is a 'string'\")"
   ]
  },
  {
   "cell_type": "code",
   "execution_count": 2,
   "id": "ac68bb56",
   "metadata": {},
   "outputs": [
    {
     "name": "stdout",
     "output_type": "stream",
     "text": [
      "this is a 'string'\n"
     ]
    }
   ],
   "source": [
    "print(\"this is a 'string'\")"
   ]
  },
  {
   "cell_type": "markdown",
   "id": "e88419f3",
   "metadata": {},
   "source": [
    "Use \\n to add new lines within a string, for example"
   ]
  },
  {
   "cell_type": "code",
   "execution_count": 3,
   "id": "a5ba0f6c",
   "metadata": {},
   "outputs": [
    {
     "name": "stdout",
     "output_type": "stream",
     "text": [
      "Python is the present\n",
      "Jax is the future\n"
     ]
    }
   ],
   "source": [
    "print('Python is the present\\nJax is the future')"
   ]
  },
  {
   "cell_type": "markdown",
   "id": "326f9c6d",
   "metadata": {},
   "source": [
    "Each object in python has methods. Strings are not the exception.\n",
    "\n",
    "Feel free to try these later: \n",
    "```python\n",
    ".title() \n",
    "\n",
    ".upper() \n",
    "\n",
    ".strip()\n",
    "```\n",
    "\n",
    "Other useful methods are \n",
    "\n",
    "```python\n",
    "\"The Importance of Being Earnest\".find(\"Importance\")\n",
    "\n",
    "\"The roeman empire\".replace(\"roeman\", \"roman\")\n",
    "```"
   ]
  },
  {
   "cell_type": "markdown",
   "id": "c3a5e99a",
   "metadata": {},
   "source": [
    "Accessing parts of the string (this will also be relevant later)"
   ]
  },
  {
   "cell_type": "markdown",
   "id": "40fa4a45",
   "metadata": {},
   "source": [
    "Python puede contar de izquierda a derecha (empezando con 0) y de derecha a izquierda (empezando con -1)\n",
    "```c\n",
    " P   Y   T   H   O   N\n",
    " 0   1   2   3   4   5\n",
    "-6  -5  -4  -3  -2  -1\n",
    "```"
   ]
  },
  {
   "cell_type": "markdown",
   "id": "58e0e39d",
   "metadata": {},
   "source": [
    "What will the following operations produce?\n",
    "\n",
    "```python\n",
    "\"Leandro\"[-1]\n",
    "\"Gerardo\"[1]\n",
    "\"ML\"[0]\n",
    "```"
   ]
  },
  {
   "cell_type": "markdown",
   "id": "dbaae8a2",
   "metadata": {},
   "source": [
    "Sometimes you need more than just one element. Slicing works as follows:"
   ]
  },
  {
   "cell_type": "code",
   "execution_count": 4,
   "id": "1e0ebc4c",
   "metadata": {},
   "outputs": [
    {
     "data": {
      "text/plain": [
       "'lic'"
      ]
     },
     "execution_count": 4,
     "metadata": {},
     "output_type": "execute_result"
    }
   ],
   "source": [
    "ini = 1\n",
    "fin = 4\n",
    "\"slicing\"[ini:fin]"
   ]
  },
  {
   "cell_type": "markdown",
   "id": "5ce5120c",
   "metadata": {},
   "source": [
    "## Next, we study 'int' and 'float'"
   ]
  },
  {
   "cell_type": "code",
   "execution_count": 5,
   "id": "a67a7747",
   "metadata": {},
   "outputs": [
    {
     "data": {
      "text/plain": [
       "int"
      ]
     },
     "execution_count": 5,
     "metadata": {},
     "output_type": "execute_result"
    }
   ],
   "source": [
    "type(4)"
   ]
  },
  {
   "cell_type": "code",
   "execution_count": 6,
   "id": "f60e0cb8",
   "metadata": {},
   "outputs": [
    {
     "data": {
      "text/plain": [
       "float"
      ]
     },
     "execution_count": 6,
     "metadata": {},
     "output_type": "execute_result"
    }
   ],
   "source": [
    "type(4.)"
   ]
  },
  {
   "cell_type": "markdown",
   "id": "4deae7e2",
   "metadata": {},
   "source": [
    "#### Operations"
   ]
  },
  {
   "cell_type": "markdown",
   "id": "186135c8",
   "metadata": {},
   "source": [
    "```python\n",
    "5 + 4\n",
    "5 - 4\n",
    "5 * 4\n",
    "5 / 4\n",
    "5 // 4 \n",
    "5 ** 4\n",
    "5 % 2\n",
    "```"
   ]
  },
  {
   "cell_type": "markdown",
   "id": "3dec60dd",
   "metadata": {},
   "source": [
    "#### Numerical functions"
   ]
  },
  {
   "cell_type": "markdown",
   "id": "1323f57b",
   "metadata": {},
   "source": [
    "```python\n",
    "round(3.141592653589793, 3)\n",
    "max(-3, 1, 9, 4.9)\n",
    "min(-3, 1)\n",
    "complex(1, 2)\n",
    "bin(10)\n",
    "format(1e10, \",.2f\")\n",
    "format(0.7645, \".2%\")\n",
    "float(\"3.9999\")\n",
    "int(\"10\")\n",
    "```"
   ]
  },
  {
   "cell_type": "code",
   "execution_count": 7,
   "id": "0a6a991f",
   "metadata": {},
   "outputs": [
    {
     "data": {
      "text/plain": [
       "'10,000,000,000.00'"
      ]
     },
     "execution_count": 7,
     "metadata": {},
     "output_type": "execute_result"
    }
   ],
   "source": [
    "format(1e10, \",.2f\")"
   ]
  },
  {
   "cell_type": "code",
   "execution_count": 8,
   "id": "8f730253",
   "metadata": {},
   "outputs": [
    {
     "data": {
      "text/plain": [
       "'76.45%'"
      ]
     },
     "execution_count": 8,
     "metadata": {},
     "output_type": "execute_result"
    }
   ],
   "source": [
    "format(0.7645, \".2%\")"
   ]
  },
  {
   "cell_type": "markdown",
   "id": "a28b73a6",
   "metadata": {},
   "source": [
    "# Variables"
   ]
  },
  {
   "cell_type": "markdown",
   "id": "2d152d40",
   "metadata": {},
   "source": [
    "A variable is the direction to a place in memory where an object lives. They are used as follows:\n",
    "\n",
    "```c\n",
    "nombre_variable = <objeto>\n",
    "```\n",
    "\n",
    "Rules:\n",
    "\n",
    "1) Variables can contain numbers, letters and underscores\n",
    "2) Variables cannot start with a number\n",
    "3) Variables distinguish between uppercase and lowercase"
   ]
  },
  {
   "cell_type": "code",
   "execution_count": 9,
   "id": "ea6872b3",
   "metadata": {},
   "outputs": [
    {
     "name": "stdout",
     "output_type": "stream",
     "text": [
      "Leandro Sanchez-Betancourt\n"
     ]
    }
   ],
   "source": [
    "name = \"Leandro\"\n",
    "last_name = \"Sanchez-Betancourt\"\n",
    "affiliation = \"OMI\"\n",
    "print(name, last_name)"
   ]
  },
  {
   "cell_type": "code",
   "execution_count": 10,
   "id": "fe76aaff",
   "metadata": {},
   "outputs": [
    {
     "name": "stdout",
     "output_type": "stream",
     "text": [
      "Leandro...Sanchez-Betancourt...OMI\n"
     ]
    }
   ],
   "source": [
    "print(name, last_name, sep=\"...\", end=\"...\") ## By default end = \"\\n\" another useful value is \"\\t\" to use tab space\n",
    "print(affiliation)"
   ]
  },
  {
   "cell_type": "code",
   "execution_count": 11,
   "id": "a530623a",
   "metadata": {},
   "outputs": [
    {
     "name": "stdout",
     "output_type": "stream",
     "text": [
      "Welcome Leandro Sanchez-Betancourt from OMI\n"
     ]
    }
   ],
   "source": [
    "print(\"Welcome {} {} from {}\".format(name, last_name, affiliation))"
   ]
  },
  {
   "cell_type": "code",
   "execution_count": 12,
   "id": "187a4b4b",
   "metadata": {},
   "outputs": [
    {
     "name": "stdout",
     "output_type": "stream",
     "text": [
      "Welcome Leandro Sanchez-Betancourt from OMI\n"
     ]
    }
   ],
   "source": [
    "print(f\"Welcome {name} {last_name} from {affiliation}\")"
   ]
  },
  {
   "cell_type": "code",
   "execution_count": 13,
   "id": "07ebe410",
   "metadata": {},
   "outputs": [
    {
     "name": "stdout",
     "output_type": "stream",
     "text": [
      "2 + 5 = 7\n"
     ]
    }
   ],
   "source": [
    "# An f-string can evaluate any expression within the keys {}\n",
    "num1 = 2\n",
    "num2 = 5\n",
    "print(f\"{num1} + {num2} = {num1 + num2}\")"
   ]
  },
  {
   "cell_type": "markdown",
   "id": "7811de1d",
   "metadata": {},
   "source": [
    "# Lists\n",
    "#### [mutable]"
   ]
  },
  {
   "cell_type": "markdown",
   "id": "6d7cc791",
   "metadata": {},
   "source": [
    "A list is defined by separating elements with commas and using square brackets"
   ]
  },
  {
   "cell_type": "code",
   "execution_count": 14,
   "id": "df4acb8c",
   "metadata": {},
   "outputs": [],
   "source": [
    "x = [1, 2, 3]"
   ]
  },
  {
   "cell_type": "code",
   "execution_count": 15,
   "id": "b6eaeecc",
   "metadata": {},
   "outputs": [],
   "source": [
    "y = [[1,2,3],3,[[2,3],[5,2]]]"
   ]
  },
  {
   "cell_type": "code",
   "execution_count": 16,
   "id": "8ba6db14",
   "metadata": {},
   "outputs": [
    {
     "name": "stdout",
     "output_type": "stream",
     "text": [
      "Number of elements of x is 3 and number of elements in y is 3\n"
     ]
    }
   ],
   "source": [
    "print(f'Number of elements of x is {len(x)} and number of elements in y is {len(y)}')"
   ]
  },
  {
   "cell_type": "code",
   "execution_count": 17,
   "id": "58a4da6e",
   "metadata": {},
   "outputs": [
    {
     "data": {
      "text/plain": [
       "1"
      ]
     },
     "execution_count": 17,
     "metadata": {},
     "output_type": "execute_result"
    }
   ],
   "source": [
    "x[0]"
   ]
  },
  {
   "cell_type": "code",
   "execution_count": 18,
   "id": "07bc5fea",
   "metadata": {},
   "outputs": [
    {
     "data": {
      "text/plain": [
       "[1, 2, 3]"
      ]
     },
     "execution_count": 18,
     "metadata": {},
     "output_type": "execute_result"
    }
   ],
   "source": [
    "y[0]"
   ]
  },
  {
   "cell_type": "code",
   "execution_count": 19,
   "id": "9bff3c2e",
   "metadata": {},
   "outputs": [
    {
     "data": {
      "text/plain": [
       "2"
      ]
     },
     "execution_count": 19,
     "metadata": {},
     "output_type": "execute_result"
    }
   ],
   "source": [
    "y[0][1]"
   ]
  },
  {
   "cell_type": "code",
   "execution_count": 20,
   "id": "2ce5c3f1",
   "metadata": {},
   "outputs": [
    {
     "name": "stdout",
     "output_type": "stream",
     "text": [
      "['ALGEBRA', 'GEOMETRY', 'PROGRAMMING', 'STATISTICS']\n"
     ]
    }
   ],
   "source": [
    "# You can delete elements of a list using del\n",
    "lectures = [\"ALGEBRA\", \"FINANCE\", \"OPTIMISATION\", \"GEOMETRY\", \"PROGRAMMING\", \"STATISTICS\"]\n",
    "del lectures[1:3]\n",
    "print(lectures)"
   ]
  },
  {
   "cell_type": "markdown",
   "id": "8711c397",
   "metadata": {},
   "source": [
    "```c\n",
    "Objects such as 1:3 work within [ ] to access a range of values but to define the object itself we need to use slice() as follows\n",
    "```"
   ]
  },
  {
   "cell_type": "code",
   "execution_count": 21,
   "id": "0bb59cd2",
   "metadata": {},
   "outputs": [
    {
     "data": {
      "text/plain": [
       "['GEOMETRY', 'PROGRAMMING']"
      ]
     },
     "execution_count": 21,
     "metadata": {},
     "output_type": "execute_result"
    }
   ],
   "source": [
    "idx = slice(1,3)\n",
    "lectures[idx]"
   ]
  },
  {
   "cell_type": "markdown",
   "id": "dd6c5555",
   "metadata": {},
   "source": [
    "#### Concatenate two lists"
   ]
  },
  {
   "cell_type": "code",
   "execution_count": 22,
   "id": "bbb90ae4",
   "metadata": {},
   "outputs": [
    {
     "data": {
      "text/plain": [
       "['Gauss', 'Fermat', 'Spivak ', 'Oksendal', 'Newton', 'Einstein', 'Maxwell']"
      ]
     },
     "execution_count": 22,
     "metadata": {},
     "output_type": "execute_result"
    }
   ],
   "source": [
    "mathematicians = [\"Gauss\", \"Fermat\", \"Spivak \", \"Oksendal\"]\n",
    "physicists = [\"Newton\", \"Einstein\", \"Maxwell\"]\n",
    "\n",
    "alwhlrawnlfkwafla = mathematicians + physicists\n",
    "alwhlrawnlfkwafla"
   ]
  },
  {
   "cell_type": "code",
   "execution_count": 23,
   "id": "b9888cf6",
   "metadata": {},
   "outputs": [
    {
     "data": {
      "text/plain": [
       "['Gauss', 'Fermat', 'Spivak ', 'Oksendal', 'Newton', 'Einstein', 'Maxwell']"
      ]
     },
     "execution_count": 23,
     "metadata": {},
     "output_type": "execute_result"
    }
   ],
   "source": [
    "mathematicians = [\"Gauss\", \"Fermat\", \"Spivak \", \"Oksendal\"]\n",
    "numbers = [1,2,3]\n",
    "\n",
    "mathematicians + physicists"
   ]
  },
  {
   "cell_type": "markdown",
   "id": "c5be80e5",
   "metadata": {},
   "source": [
    "# Tuples\n",
    "#### (inmutable)"
   ]
  },
  {
   "cell_type": "code",
   "execution_count": 24,
   "id": "895045f0",
   "metadata": {},
   "outputs": [
    {
     "data": {
      "text/plain": [
       "tuple"
      ]
     },
     "execution_count": 24,
     "metadata": {},
     "output_type": "execute_result"
    }
   ],
   "source": [
    "#Tuples are defined using ()\n",
    "lectures = (\"ALGEBRA\", \"FINANCE\", \"OPTIMISATION\", \"GEOMETRY\", \"PROGRAMMING\", \"STATISTICS\")\n",
    "type(lectures)"
   ]
  },
  {
   "cell_type": "code",
   "execution_count": 25,
   "id": "a235849b",
   "metadata": {},
   "outputs": [
    {
     "data": {
      "text/plain": [
       "(1, 2, 3)"
      ]
     },
     "execution_count": 25,
     "metadata": {},
     "output_type": "execute_result"
    }
   ],
   "source": [
    "1, 2, 3"
   ]
  },
  {
   "cell_type": "markdown",
   "id": "6bc184bf",
   "metadata": {},
   "source": [
    "when should you use tuples?"
   ]
  },
  {
   "cell_type": "markdown",
   "id": "8797a52d",
   "metadata": {},
   "source": [
    "# Dictonaries"
   ]
  },
  {
   "cell_type": "markdown",
   "id": "7c8777ce",
   "metadata": {},
   "source": [
    "## {Key: Value}\n",
    "\n",
    "Until now we've seen collections of ordered elements (indexed with numbers)\n",
    "\n",
    "Next, we study dictionaries which use \"keys\" to index their elements\n",
    "\n",
    "The syntax is:\n",
    "```python\n",
    "{key_1: value_1,\n",
    " key_2: value_2,\n",
    " ...\n",
    " key_n: value_n}\n",
    "```"
   ]
  },
  {
   "cell_type": "code",
   "execution_count": 26,
   "id": "9d2e830b",
   "metadata": {},
   "outputs": [
    {
     "name": "stdout",
     "output_type": "stream",
     "text": [
      "{'Alvaro': [23, 'Engineering', 'DPhil'], 'Pat': [25, 'Mathematics', 'DPhil'], 'Fay': [32, 'Mathematics', 'Postdoc'], 'Gerardo': [29, 'Statistics', 'PhD']}\n"
     ]
    }
   ],
   "source": [
    "students = {\n",
    "    \"Alvaro\":    [23, \"Engineering\", \"DPhil\"],\n",
    "    \"Pat\": [25, \"Mathematics\", \"DPhil\"],\n",
    "    \"Fay\": [32, \"Mathematics\", \"Postdoc\"],\n",
    "    \"Gerardo\": [29, \"Statistics\", \"PhD\"]\n",
    "}\n",
    "print(students)"
   ]
  },
  {
   "cell_type": "code",
   "execution_count": 27,
   "id": "5270d96d",
   "metadata": {},
   "outputs": [
    {
     "name": "stdout",
     "output_type": "stream",
     "text": [
      "[29, 'Statistics', 'PhD']\n"
     ]
    }
   ],
   "source": [
    "print(students['Gerardo'])"
   ]
  },
  {
   "cell_type": "code",
   "execution_count": 28,
   "id": "5c44c77a",
   "metadata": {},
   "outputs": [],
   "source": [
    "del students[\"Gerardo\"]"
   ]
  },
  {
   "cell_type": "code",
   "execution_count": 29,
   "id": "658d1356",
   "metadata": {},
   "outputs": [
    {
     "data": {
      "text/plain": [
       "{'Alvaro': [23, 'Engineering', 'DPhil'],\n",
       " 'Pat': [25, 'Mathematics', 'DPhil'],\n",
       " 'Fay': [32, 'Mathematics', 'Postdoc']}"
      ]
     },
     "execution_count": 29,
     "metadata": {},
     "output_type": "execute_result"
    }
   ],
   "source": [
    "students"
   ]
  },
  {
   "cell_type": "markdown",
   "id": "c7016ae4",
   "metadata": {},
   "source": [
    "#### A key can be any hashable object"
   ]
  },
  {
   "cell_type": "code",
   "execution_count": 30,
   "id": "e9beca2f",
   "metadata": {},
   "outputs": [
    {
     "name": "stdout",
     "output_type": "stream",
     "text": [
      "Help on built-in function hash in module builtins:\n",
      "\n",
      "hash(obj, /)\n",
      "    Return the hash value for the given object.\n",
      "    \n",
      "    Two objects that compare equal must also have the same hash value, but the\n",
      "    reverse is not necessarily true.\n",
      "\n"
     ]
    }
   ],
   "source": [
    "help(hash)"
   ]
  },
  {
   "cell_type": "code",
   "execution_count": 31,
   "id": "2e74b74c",
   "metadata": {},
   "outputs": [
    {
     "data": {
      "text/plain": [
       "{'Alvaro': [23, 'Engineering', 'DPhil'],\n",
       " 'Pat': [25, 'Mathematics', 'DPhil'],\n",
       " 'Fay': [32, 'Mathematics', 'Postdoc'],\n",
       " (1, 2): 1,\n",
       " 23: 1,\n",
       " (23,): 1}"
      ]
     },
     "execution_count": 31,
     "metadata": {},
     "output_type": "execute_result"
    }
   ],
   "source": [
    "students[(1,2)] = 1\n",
    "students[23] = 1\n",
    "students[(23,)] = 1\n",
    "students"
   ]
  },
  {
   "cell_type": "markdown",
   "id": "366896f1",
   "metadata": {},
   "source": [
    "#### Fancier dictionaries"
   ]
  },
  {
   "cell_type": "code",
   "execution_count": 32,
   "id": "d7091235",
   "metadata": {},
   "outputs": [],
   "source": [
    "students = {\n",
    "    \"Alvaro\":   {\n",
    "        \"age\": 23,\n",
    "        \"department\": \"Engineering\",\n",
    "        \"degree\" : \"DPhil\"\n",
    "    },\n",
    "    \"Pat\": {\n",
    "        \"age\": 25,\n",
    "        \"department\": \"Mathematics\",\n",
    "        \"degree\" : \"DPhil\"\n",
    "    },\n",
    "    \"Fay\": {\n",
    "        \"age\": 32,\n",
    "        \"department\": \"Engineering\",\n",
    "        \"degree\" : \"Postdoc\"\n",
    "    },\n",
    "    \"Gerardo\": {\n",
    "        \"age\": 29,\n",
    "        \"department\": \"Statistics\",\n",
    "        \"degree\" : \"PhD\"\n",
    "    }\n",
    "}"
   ]
  },
  {
   "cell_type": "code",
   "execution_count": 33,
   "id": "35865419",
   "metadata": {},
   "outputs": [
    {
     "data": {
      "text/plain": [
       "'Statistics'"
      ]
     },
     "execution_count": 33,
     "metadata": {},
     "output_type": "execute_result"
    }
   ],
   "source": [
    "students[\"Gerardo\"][\"department\"]"
   ]
  },
  {
   "cell_type": "markdown",
   "id": "5169b181",
   "metadata": {},
   "source": [
    "# {Sets}\n",
    "\n",
    "A `set` is a collection of unordered unique values. We have the following operations\n",
    "\n",
    "* `A & B` (Intersection)\n",
    "* `A | B` (Union)\n",
    "* `A - B` (Difference)\n",
    "* `A ^ B` (Symmetric difference) complement of A intersected with B\n",
    "* `A <= B` (Subset) Checks if `A` is subset of `B`\n",
    "* `A >= B` "
   ]
  },
  {
   "cell_type": "markdown",
   "id": "21e35502",
   "metadata": {},
   "source": [
    "# Booleans"
   ]
  },
  {
   "cell_type": "markdown",
   "id": "f028bfc2",
   "metadata": {},
   "source": [
    "Similar to `int`s and `float`s, bools have operators:\n",
    "\n",
    "* `==`\n",
    "* `!=`\n",
    "* `not`\n",
    "* `and`\n",
    "* `or`"
   ]
  },
  {
   "cell_type": "markdown",
   "id": "e5b3dc79",
   "metadata": {},
   "source": [
    "# Loops"
   ]
  },
  {
   "cell_type": "markdown",
   "id": "0c2ccd91",
   "metadata": {},
   "source": [
    "```\n",
    "Loops are a great way to perform similar calculations multiple times. \n",
    "\n",
    "Consider the following problem: \n",
    "For each radius in the list of radii (that's the plural of radius) [1,2,5,7,10,15] we wish to print the area of a cicle with such a radius. \n",
    "```"
   ]
  },
  {
   "cell_type": "code",
   "execution_count": 34,
   "id": "b1557c63",
   "metadata": {},
   "outputs": [],
   "source": [
    "import math"
   ]
  },
  {
   "cell_type": "code",
   "execution_count": 35,
   "id": "2ebb3ed3",
   "metadata": {},
   "outputs": [
    {
     "name": "stdout",
     "output_type": "stream",
     "text": [
      "Area of circle with radius 1 is 3.14\n",
      "Area of circle with radius 2 is 12.57\n",
      "Area of circle with radius 5 is 78.54\n",
      "Area of circle with radius 7 is 153.94\n",
      "Area of circle with radius 10 is 314.16\n",
      "Area of circle with radius 15 is 706.86\n"
     ]
    }
   ],
   "source": [
    "r = [1,2,5,7,10,15]\n",
    "for x in r:\n",
    "    print(f'Area of circle with radius {x} is {math.pi*x**2 :.2f}') "
   ]
  },
  {
   "cell_type": "markdown",
   "id": "f19a2a06",
   "metadata": {},
   "source": [
    "## `For` loops\n",
    "We use a `for` loop when **we know exactly** the number of times we wish to perform an iteration.\n",
    "\n",
    "The sintax for a *for loop* in Python is\n",
    "\n",
    "```python\n",
    "for varval in iterable:\n",
    "    ...\n",
    "```\n",
    "\n",
    "* `iterable` is anything that has an index (list, dictionary, string)\n",
    "* `varval` variable taking values on each of the elements that are `iterable`\n",
    "* Block of code (tab spacing) after `for` repeats for each `varval` in `iterable`\n"
   ]
  },
  {
   "cell_type": "code",
   "execution_count": 36,
   "id": "e32cc442",
   "metadata": {},
   "outputs": [
    {
     "name": "stdout",
     "output_type": "stream",
     "text": [
      "B\n",
      "e\n",
      "s\n",
      "e\n",
      "e\n",
      "c\n",
      "h\n",
      "i\n",
      "n\n",
      "g\n",
      "l\n",
      "y\n"
     ]
    }
   ],
   "source": [
    "word = \"Beseechingly\"\n",
    "for letter in word:\n",
    "    print(letter)"
   ]
  },
  {
   "cell_type": "markdown",
   "id": "6a92c66e",
   "metadata": {},
   "source": [
    "**Range**  \n",
    "To create an iterable of numbers we use the function `range`, which can be used in three ways:\n",
    "* `range(a)` creates a range of values from  `0` until `a-1`\n",
    "* `range(a, b)` creates a range of values from `a` until `b-1`\n",
    "* `range(a, b, s)` creates a range of values from  `a` until `b-1` skipping `s`"
   ]
  },
  {
   "cell_type": "markdown",
   "id": "19b34d61",
   "metadata": {},
   "source": [
    "## `while` loops\n",
    "Unlike the `for` loop, a `while` loop **does not necessarily know the number of times the loop will iterate**. The sintax of a `while` loop is as follows.\n",
    "\n",
    "```python\n",
    "while condition:\n",
    "    ...\n",
    "```\n",
    "\n",
    "* `condition` is a boolean which is evaluated at the start of each cicle. If `condition == True`, the block will be evaluated, otherwise the cicle stops.\n",
    "\n",
    "A while loop repeats as long as `condition` is `True`"
   ]
  },
  {
   "cell_type": "code",
   "execution_count": 37,
   "id": "9cc8b21e",
   "metadata": {},
   "outputs": [
    {
     "name": "stdout",
     "output_type": "stream",
     "text": [
      "1 2 3 4 5 6 7 8 9 10 "
     ]
    }
   ],
   "source": [
    "x = 1\n",
    "while x <= 10:\n",
    "    print(x, end=\" \")\n",
    "    x = x + 1"
   ]
  },
  {
   "cell_type": "markdown",
   "id": "f6419481",
   "metadata": {},
   "source": [
    "**The `break` keyword**  \n",
    "We use `break` to end a loop prematurely. For example:"
   ]
  },
  {
   "cell_type": "code",
   "execution_count": 38,
   "id": "09959a09",
   "metadata": {},
   "outputs": [
    {
     "name": "stdout",
     "output_type": "stream",
     "text": [
      "Insert your favourite meals. Type 'end' to end the program\n",
      "Meal: duck\n",
      "Meal: end\n",
      "Thank you for your input.\n",
      "['duck']\n"
     ]
    }
   ],
   "source": [
    "meals = []\n",
    "print(\"Insert your favourite meals. Type 'end' to end the program\")\n",
    "while True: # Condition will always be true\n",
    "    meal = input(\"Meal: \")\n",
    "    if meal != \"end\":\n",
    "        meals.append(meal)\n",
    "    else:\n",
    "        print(\"Thank you for your input.\")\n",
    "        break\n",
    "print(meals)        "
   ]
  },
  {
   "cell_type": "markdown",
   "id": "edfbd42d",
   "metadata": {},
   "source": [
    "## Grouping elements with `zip`\n",
    "Sometimes we need to group lists entry by entry. For this we use `zip`.\n",
    "\n",
    "`zip` returns a generator of *tuples* entry by entry. Consider the following example"
   ]
  },
  {
   "cell_type": "code",
   "execution_count": 39,
   "id": "edbcd815",
   "metadata": {},
   "outputs": [
    {
     "name": "stdout",
     "output_type": "stream",
     "text": [
      "[(32, 'Leandro', 'OMI'), (29, 'Gerardo', 'QMUL'), (33, 'Fay', 'OMI')]\n"
     ]
    }
   ],
   "source": [
    "age = [32,29,33]\n",
    "name = ['Leandro', 'Gerardo', 'Fay']\n",
    "affiliation  = ['OMI','QMUL', 'OMI']\n",
    "\n",
    "print(list(zip(age, name, affiliation)))"
   ]
  },
  {
   "cell_type": "markdown",
   "id": "a47ba436",
   "metadata": {},
   "source": [
    "```\n",
    "The following is an example closer to home:\n",
    "```"
   ]
  },
  {
   "cell_type": "code",
   "execution_count": 40,
   "id": "aeed3585",
   "metadata": {},
   "outputs": [
    {
     "name": "stdout",
     "output_type": "stream",
     "text": [
      "{'Apple': 'AAPL', 'Amazon': 'AMZN', 'Facebook': 'FB', 'Alphabet': 'GOOG'}\n"
     ]
    }
   ],
   "source": [
    "tickers = [\"AAPL\", \"AMZN\", \"FB\", \"GOOG\"]\n",
    "companies = [\"Apple\", \"Amazon\", \"Facebook\", \"Alphabet\"]\n",
    "comp_tick = {} # diccionary\n",
    "for ticker, company in zip(tickers, companies):\n",
    "    comp_tick[company] = ticker\n",
    "    \n",
    "print(comp_tick)"
   ]
  },
  {
   "cell_type": "markdown",
   "id": "8139897f",
   "metadata": {},
   "source": [
    "# Functions"
   ]
  },
  {
   "cell_type": "markdown",
   "id": "767946d7",
   "metadata": {},
   "source": [
    "```\n",
    "Functions we already know:\n",
    "```"
   ]
  },
  {
   "cell_type": "markdown",
   "id": "9a681cf9",
   "metadata": {},
   "source": [
    "```Python\n",
    "len([1, 2, 3, 4])\n",
    "sum([1, 2, 3, 4])\n",
    "print(\"f(x)\")\n",
    "pow(3, 2)\n",
    "abs(-3)\n",
    "```"
   ]
  },
  {
   "cell_type": "markdown",
   "id": "222a890c",
   "metadata": {},
   "source": [
    "We create a function in Python with the keyword `def` (*definition*) followed by the name of the function and the syntax:\n",
    "\n",
    "```python\n",
    "def nombre_funcion(param1, param2, ..., paramN):\n",
    "    <operations>\n",
    "```\n",
    "\n",
    "* `param1`, `param2` are the 'inputs' of the function. In the nomenclature of Python these are referred as parameters that once they are given values are called inputs.\n",
    "\n",
    "\n",
    "* Similar to the loops (`for`, `while`) and control flow statements (`if`, `else`, `elif`), functions are defined after the 'def' statement with a 'tab' spacing as usual."
   ]
  },
  {
   "cell_type": "code",
   "execution_count": 41,
   "id": "97ebea45",
   "metadata": {},
   "outputs": [
    {
     "name": "stdout",
     "output_type": "stream",
     "text": [
      "¡Esto es una función!\n"
     ]
    }
   ],
   "source": [
    "def function():\n",
    "    print(\"¡Esto es una función!\")\n",
    "\n",
    "function()"
   ]
  },
  {
   "cell_type": "code",
   "execution_count": 42,
   "id": "bb9f9492",
   "metadata": {},
   "outputs": [
    {
     "data": {
      "text/plain": [
       "7.3484692283495345"
      ]
     },
     "execution_count": 42,
     "metadata": {},
     "output_type": "execute_result"
    }
   ],
   "source": [
    "math.sqrt(54)"
   ]
  },
  {
   "cell_type": "code",
   "execution_count": 43,
   "id": "07911457",
   "metadata": {},
   "outputs": [],
   "source": [
    "def find_two_roots(a,b,c):\n",
    "    # Finds the root of ax^2 + bx + c = 0\n",
    "    if round(a, 10) == 0:\n",
    "        print('This is not a quadratic equation.')\n",
    "        return []\n",
    "    if b**2-4*a*c<0:\n",
    "        print('There are no real roots.')\n",
    "        return []\n",
    "    root_1 = (-b + math.sqrt(b**2 - 4*a*c))/(2*a)\n",
    "    root_2 = (-b - math.sqrt(b**2 - 4*a*c))/(2*a)\n",
    "    return root_1, root_2"
   ]
  },
  {
   "cell_type": "code",
   "execution_count": 44,
   "id": "0818bea1",
   "metadata": {},
   "outputs": [
    {
     "name": "stdout",
     "output_type": "stream",
     "text": [
      "There are no real roots.\n"
     ]
    },
    {
     "data": {
      "text/plain": [
       "[]"
      ]
     },
     "execution_count": 44,
     "metadata": {},
     "output_type": "execute_result"
    }
   ],
   "source": [
    "find_two_roots(a = 1, b = 1, c =1)"
   ]
  },
  {
   "cell_type": "markdown",
   "id": "c1c8c00b",
   "metadata": {},
   "source": [
    "<h2> Exercise </h2>\n",
    "\n",
    "Code the function ```distance_lp``` which for a given value of $p>0$ it computes the following distance between two vectors in $\\mathbb{R}^n$:\n",
    "\n",
    "$$\n",
    "d(\\mathbf{x}, \\mathbf{y}) = \\left( \\sum_{i=1}^{n} \\left(x_i - y_i \\right)^{p} \\right)^{1/p}\n",
    "$$"
   ]
  },
  {
   "cell_type": "markdown",
   "id": "12b5ddf8",
   "metadata": {},
   "source": [
    "# Libraries\n",
    "\n",
    "One of the great things about Python is the gigantic number of previously-coded functions we have access to. \n",
    "\n",
    "Suites of **functions** are usually packed within a library.\n",
    "\n",
    "When you install Python, there are a number of libraries we can use. These libraries are  in https://docs.python.org/3/py-modindex.html.\n",
    "\n",
    "To make use a library we need to import it.\n",
    "\n",
    "**There are three ways to do this:**\n",
    "```python\n",
    "import library\n",
    "from library import module\n",
    "import library as lib\n",
    "```\n",
    "\n",
    "Given an imported library, we can access their functions as follows\n",
    "\n",
    "```python\n",
    "import lib\n",
    "lib.func()\n",
    "```"
   ]
  },
  {
   "cell_type": "code",
   "execution_count": 45,
   "id": "8f8232a3",
   "metadata": {},
   "outputs": [
    {
     "data": {
      "text/plain": [
       "1.0"
      ]
     },
     "execution_count": 45,
     "metadata": {},
     "output_type": "execute_result"
    }
   ],
   "source": [
    "import math\n",
    "math.cos(0) "
   ]
  },
  {
   "cell_type": "code",
   "execution_count": 46,
   "id": "84151260",
   "metadata": {},
   "outputs": [],
   "source": [
    "from math import e, log"
   ]
  },
  {
   "cell_type": "code",
   "execution_count": 47,
   "id": "b0e23217",
   "metadata": {},
   "outputs": [
    {
     "data": {
      "text/plain": [
       "1.0"
      ]
     },
     "execution_count": 47,
     "metadata": {},
     "output_type": "execute_result"
    }
   ],
   "source": [
    "log(e)"
   ]
  },
  {
   "cell_type": "code",
   "execution_count": 48,
   "id": "9b7f4618",
   "metadata": {},
   "outputs": [
    {
     "data": {
      "text/plain": [
       "7.38905609893065"
      ]
     },
     "execution_count": 48,
     "metadata": {},
     "output_type": "execute_result"
    }
   ],
   "source": [
    "import math as m\n",
    "m.exp(2)"
   ]
  },
  {
   "cell_type": "code",
   "execution_count": 49,
   "id": "85958c3d",
   "metadata": {},
   "outputs": [
    {
     "data": {
      "text/plain": [
       "7.38905609893065"
      ]
     },
     "execution_count": 49,
     "metadata": {},
     "output_type": "execute_result"
    }
   ],
   "source": [
    "from math import exp as exponential\n",
    "exponential(2)"
   ]
  },
  {
   "cell_type": "markdown",
   "id": "e6e19af8",
   "metadata": {},
   "source": [
    "<h2> Exercise </h2>\n",
    "\n",
    "**The Collatz conjecture**\n",
    "\n",
    "Define the following function: for each integer $n \\geq 2$ if $n$ is even, divide by $2$; if $n$ is odd, multiply by $3$ and add one. That is, $C(n)$ looks like\n",
    "$$\n",
    "    C(n) = \\begin{cases}\n",
    "        n / 2 & n \\text{ es par}  \\\\\n",
    "        3n + 1 & n \\text{ es impar}\n",
    "    \\end{cases}\n",
    "$$\n",
    "\n",
    "The Collatz conjecture says that regarless of the starting point $n$, if one performs the following calculation\n",
    "$$\n",
    "C^{(m)}(n)=\\underbrace{C(C(\\dots C(n)\\dots))}_{m \\text{ times}}\n",
    "$$\n",
    "then \n",
    "$$\n",
    "\\lim_{m\\to\\infty}C^{(m)}(n) = 1\\,.\n",
    "$$\n",
    "\n",
    "\n",
    "Write the function `collatz` that for a given $n\\geq 2$ returns the number $m$ of steps it takes for $C^{(m)}(n)$ to reach one. For example, if $n=3$, then `collatz`$(n)=7$ because we have the following sequence of recursive evaluations:\n",
    "```\n",
    "3 10 5 16 8 4 2 1 \n",
    "```\n",
    "```python\n",
    ">>> collatz(3)\n",
    "7\n",
    ">>> collatz(7)\n",
    "16\n",
    ">>> collatz(2 ** 100 - 1)\n",
    "108\n",
    ">>> collatz(63728127)\n",
    "949\n",
    "```\n",
    "\n",
    "How would you modify the code to also return the sequence of points."
   ]
  },
  {
   "cell_type": "markdown",
   "id": "9de0e4ef",
   "metadata": {},
   "source": [
    "## `*args` & `**kwargs`\n",
    "We use `*args` for additional arguments in a function and `**kwargs` for arguments with keys. We need them because sometimes we do not know the number of arguments we would need a priori."
   ]
  },
  {
   "cell_type": "code",
   "execution_count": 50,
   "id": "0b415898",
   "metadata": {},
   "outputs": [],
   "source": [
    "def function_args(*args):\n",
    "    print('Here args:', args)\n",
    "    print(args[2])"
   ]
  },
  {
   "cell_type": "code",
   "execution_count": 51,
   "id": "e0d7a738",
   "metadata": {},
   "outputs": [
    {
     "name": "stdout",
     "output_type": "stream",
     "text": [
      "Here args: (1, 2, 3, 4)\n",
      "3\n"
     ]
    }
   ],
   "source": [
    "function_args(1,2,3,4)"
   ]
  },
  {
   "cell_type": "code",
   "execution_count": 52,
   "id": "e470fda0",
   "metadata": {},
   "outputs": [
    {
     "name": "stdout",
     "output_type": "stream",
     "text": [
      "Here args: (1, 2, 3, 4, 5, 6, 7)\n",
      "3\n"
     ]
    }
   ],
   "source": [
    "function_args(1,2,3,4,5,6,7)"
   ]
  },
  {
   "cell_type": "code",
   "execution_count": 53,
   "id": "350dee5d",
   "metadata": {},
   "outputs": [],
   "source": [
    "def function_kwargs(**kwargs):\n",
    "    print(\"Here kwargs\", kwargs)\n",
    "    print(kwargs['a'])"
   ]
  },
  {
   "cell_type": "code",
   "execution_count": 54,
   "id": "1a2af49e",
   "metadata": {},
   "outputs": [
    {
     "name": "stdout",
     "output_type": "stream",
     "text": [
      "Here kwargs {'a': 1, 'b': 2, 'c': [1, 2, 3, 4], 'd': 'hola'}\n",
      "1\n"
     ]
    }
   ],
   "source": [
    "function_kwargs(a=1, b=2, c = [1,2,3,4], d = 'hola')"
   ]
  },
  {
   "cell_type": "code",
   "execution_count": 55,
   "id": "a4ad601a",
   "metadata": {},
   "outputs": [],
   "source": [
    "def function_args_kwargs(x= 'hello world', *args, **kwargs):\n",
    "    print(x)\n",
    "    print(args)\n",
    "    print(kwargs)"
   ]
  },
  {
   "cell_type": "code",
   "execution_count": 56,
   "id": "ac92aa2e",
   "metadata": {},
   "outputs": [
    {
     "name": "stdout",
     "output_type": "stream",
     "text": [
      "1\n",
      "(2, 3, 4, 5)\n",
      "{'a': 1, 'b': 2, 'c': 3}\n"
     ]
    }
   ],
   "source": [
    "function_args_kwargs(1,2,3,4,5,a=1,b=2,c=3)"
   ]
  },
  {
   "cell_type": "markdown",
   "id": "a78dba7b",
   "metadata": {},
   "source": [
    "<h2> Exercise </h2>\n",
    "\n",
    "1. Use `*args` to write a function called `unique` that takes `n` integers and returns a list with the unique values.\n",
    "\n",
    "```python\n",
    ">>> unique(1, 2, 3, 4, 2, 3, 4)\n",
    "[1, 2, 3, 4]\n",
    ">>> unique(1, 1, 2)\n",
    "[1, 2]\n",
    "```"
   ]
  },
  {
   "cell_type": "markdown",
   "id": "fc99406b",
   "metadata": {},
   "source": [
    "# OS, directories, and other useful stuff"
   ]
  },
  {
   "cell_type": "markdown",
   "id": "f2d871e0",
   "metadata": {},
   "source": [
    "```\n",
    "! lets us execute in the command line\n",
    "```"
   ]
  },
  {
   "cell_type": "code",
   "execution_count": 57,
   "id": "509be6ec",
   "metadata": {},
   "outputs": [
    {
     "name": "stdout",
     "output_type": "stream",
     "text": [
      "/Users/leandrosb/Documents/GitHub/online-ml-finance\r\n"
     ]
    }
   ],
   "source": [
    "!pwd"
   ]
  },
  {
   "cell_type": "code",
   "execution_count": 58,
   "id": "c147a8fe",
   "metadata": {},
   "outputs": [
    {
     "name": "stdout",
     "output_type": "stream",
     "text": [
      "00-intro-to-python.ipynb     \u001b[34mdata\u001b[m\u001b[m\r\n",
      "01-deep-learning-intro.ipynb my_plot.pdf\r\n",
      "01-jax.ipynb                 price-impact-signal.ipynb\r\n",
      "README.md                    price-impact.ipynb\r\n"
     ]
    }
   ],
   "source": [
    "!ls ./"
   ]
  },
  {
   "cell_type": "markdown",
   "id": "f4a83144",
   "metadata": {},
   "source": [
    "### `open` (reading files)\n",
    "\n",
    "To open and read a file we use `open` (the first argument is the location)\n",
    "\n",
    "```python\n",
    "open(file, mode='r', buffering=-1, encoding=None, errors=None, newline=None, closefd=True, opener=None)\n",
    "```"
   ]
  },
  {
   "cell_type": "code",
   "execution_count": 59,
   "id": "ba3dc80f",
   "metadata": {},
   "outputs": [
    {
     "name": "stdout",
     "output_type": "stream",
     "text": [
      "['This is a txt file.\\n']\n"
     ]
    },
    {
     "data": {
      "text/plain": [
       "list"
      ]
     },
     "execution_count": 59,
     "metadata": {},
     "output_type": "execute_result"
    }
   ],
   "source": [
    "path = \"data/text.txt\"\n",
    "f = open(path)\n",
    "text = f.readlines() #Lee cada línea y las almacena en una lista\n",
    "f.close()\n",
    "print(text)\n",
    "type(text)"
   ]
  },
  {
   "cell_type": "markdown",
   "id": "648f6af3",
   "metadata": {},
   "source": [
    "When we open a file we obtain a  `file object` that we can manipulate before opening the content of the file itself. The two most common examples of the *mode* we can use are: \n",
    "\n",
    "* `r`: read (default)\n",
    "* `w`: write"
   ]
  },
  {
   "cell_type": "code",
   "execution_count": 60,
   "id": "d434e46d",
   "metadata": {},
   "outputs": [
    {
     "name": "stdout",
     "output_type": "stream",
     "text": [
      "This is a txt file.\n",
      "\n"
     ]
    }
   ],
   "source": [
    "with open(path, \"r\") as file:\n",
    "    print(file.read())"
   ]
  },
  {
   "cell_type": "markdown",
   "id": "4826680f",
   "metadata": {},
   "source": [
    "If we try to read the file we obtain an error\n",
    "```python\n",
    ">>> f.read()\n",
    "ValueError                                Traceback (most recent call last)\n",
    "<ipython-input-24-873bb1270d85> in <module>()\n",
    "      1 # Si tratamos y\n",
    "----> 2 f.read()\n",
    "\n",
    "ValueError: I/O operation on closed file.\n",
    "```\n",
    "which tells us that the file has been closed."
   ]
  },
  {
   "cell_type": "markdown",
   "id": "64251827",
   "metadata": {},
   "source": [
    "### Escribiendo Archivos\n",
    "The mode `\"w\"` in `open` allows us to create new files. For example,\n",
    "```python\n",
    "open(filename, \"w\")\n",
    "```"
   ]
  },
  {
   "cell_type": "code",
   "execution_count": 61,
   "id": "e2db7f60",
   "metadata": {},
   "outputs": [
    {
     "name": "stdout",
     "output_type": "stream",
     "text": [
      "This is some data\n",
      "\n"
     ]
    }
   ],
   "source": [
    "with open('data/test.txt', 'w') as f:\n",
    "    text = 'This is some data\\n'\n",
    "    f.write(text)\n",
    "    \n",
    "with open('data/test.txt', 'r') as f:\n",
    "    content = f.read()\n",
    "    print(content)"
   ]
  },
  {
   "cell_type": "markdown",
   "id": "e92d1abd",
   "metadata": {},
   "source": [
    "# Datetime"
   ]
  },
  {
   "cell_type": "code",
   "execution_count": 62,
   "id": "84b42901",
   "metadata": {},
   "outputs": [],
   "source": [
    "from datetime import datetime"
   ]
  },
  {
   "cell_type": "code",
   "execution_count": 63,
   "id": "d47e01ba",
   "metadata": {},
   "outputs": [
    {
     "name": "stdout",
     "output_type": "stream",
     "text": [
      "1995-08-19 00:00:00\n"
     ]
    },
    {
     "data": {
      "text/plain": [
       "datetime.datetime"
      ]
     },
     "execution_count": 63,
     "metadata": {},
     "output_type": "execute_result"
    }
   ],
   "source": [
    "start_date = datetime(1995, 8, 19)\n",
    "print(start_date)\n",
    "type(start_date)"
   ]
  },
  {
   "cell_type": "code",
   "execution_count": 64,
   "id": "af5b3ce5",
   "metadata": {},
   "outputs": [
    {
     "data": {
      "text/plain": [
       "5"
      ]
     },
     "execution_count": 64,
     "metadata": {},
     "output_type": "execute_result"
    }
   ],
   "source": [
    "# Gives back the day of the week as an int where monday is 0 and sunday is 6\n",
    "start_date.weekday()"
   ]
  },
  {
   "cell_type": "code",
   "execution_count": 65,
   "id": "d5681156",
   "metadata": {},
   "outputs": [
    {
     "name": "stdout",
     "output_type": "stream",
     "text": [
      "08-19-95\n",
      "Saturday, August 19 1995\n"
     ]
    }
   ],
   "source": [
    "# You can ask for the date to be given in various formats, for example:\n",
    "print(start_date.strftime(\"%m-%d-%y\"))\n",
    "print(start_date.strftime(\"%A, %B %d %Y\"))"
   ]
  },
  {
   "cell_type": "code",
   "execution_count": 66,
   "id": "9491eb80",
   "metadata": {},
   "outputs": [
    {
     "data": {
      "text/plain": [
       "datetime.datetime(1996, 12, 31, 0, 0)"
      ]
     },
     "execution_count": 66,
     "metadata": {},
     "output_type": "execute_result"
    }
   ],
   "source": [
    "# For operations involving dates we use timedelta\n",
    "from datetime import timedelta\n",
    "\n",
    "# for example:\n",
    "start_date + timedelta(days=500)"
   ]
  },
  {
   "cell_type": "markdown",
   "id": "f20d26be",
   "metadata": {},
   "source": [
    "# NUMPY"
   ]
  },
  {
   "cell_type": "code",
   "execution_count": 67,
   "id": "4da64649",
   "metadata": {},
   "outputs": [],
   "source": [
    "# the most common way of importing numpy is using the alias np\n",
    "import numpy as np"
   ]
  },
  {
   "cell_type": "code",
   "execution_count": 68,
   "id": "4e7dc357",
   "metadata": {},
   "outputs": [
    {
     "data": {
      "text/plain": [
       "array([[1, 2, 3],\n",
       "       [4, 5, 1]])"
      ]
     },
     "execution_count": 68,
     "metadata": {},
     "output_type": "execute_result"
    }
   ],
   "source": [
    "arr1 = np.array( [ [1, 2, 3], [4, 5, 1] ] )\n",
    "arr1"
   ]
  },
  {
   "cell_type": "code",
   "execution_count": 69,
   "id": "860c771f",
   "metadata": {},
   "outputs": [
    {
     "data": {
      "text/plain": [
       "array([5, 7, 4])"
      ]
     },
     "execution_count": 69,
     "metadata": {},
     "output_type": "execute_result"
    }
   ],
   "source": [
    "arr1.sum(axis = 0)"
   ]
  },
  {
   "cell_type": "code",
   "execution_count": 70,
   "id": "ffc974aa",
   "metadata": {},
   "outputs": [
    {
     "data": {
      "text/plain": [
       "array([ 6, 10])"
      ]
     },
     "execution_count": 70,
     "metadata": {},
     "output_type": "execute_result"
    }
   ],
   "source": [
    "arr1.sum(axis = 1)"
   ]
  },
  {
   "cell_type": "code",
   "execution_count": 71,
   "id": "f4a25329",
   "metadata": {},
   "outputs": [
    {
     "data": {
      "text/plain": [
       "2"
      ]
     },
     "execution_count": 71,
     "metadata": {},
     "output_type": "execute_result"
    }
   ],
   "source": [
    "arr1.ndim"
   ]
  },
  {
   "cell_type": "code",
   "execution_count": 72,
   "id": "31d2a7b8",
   "metadata": {},
   "outputs": [
    {
     "data": {
      "text/plain": [
       "(2, 3)"
      ]
     },
     "execution_count": 72,
     "metadata": {},
     "output_type": "execute_result"
    }
   ],
   "source": [
    "arr1.shape"
   ]
  },
  {
   "cell_type": "code",
   "execution_count": 73,
   "id": "d02b92c1",
   "metadata": {},
   "outputs": [
    {
     "data": {
      "text/plain": [
       "dtype('int64')"
      ]
     },
     "execution_count": 73,
     "metadata": {},
     "output_type": "execute_result"
    }
   ],
   "source": [
    "arr1.dtype"
   ]
  },
  {
   "cell_type": "code",
   "execution_count": 74,
   "id": "66a1b8db",
   "metadata": {},
   "outputs": [
    {
     "data": {
      "text/plain": [
       "dtype('float64')"
      ]
     },
     "execution_count": 74,
     "metadata": {},
     "output_type": "execute_result"
    }
   ],
   "source": [
    "arr2 = arr1*2.5\n",
    "arr2.dtype"
   ]
  },
  {
   "cell_type": "markdown",
   "id": "c75b629d",
   "metadata": {},
   "source": [
    "## Try the following operations:\n",
    "```python\n",
    "a1 = np.array([\n",
    "     [2, 4, 6],\n",
    "     [3, 5, 1]\n",
    "])\n",
    "\n",
    "a1 + 1\n",
    "\n",
    "a1 * 2\n",
    "\n",
    "a1 ** 2\n",
    "\n",
    "a1 * a1\n",
    "\n",
    "a1 += 1 \n",
    "\n",
    "x = a1 <= 3\n",
    "x\n",
    "```"
   ]
  },
  {
   "cell_type": "markdown",
   "id": "0fdf3664",
   "metadata": {},
   "source": [
    "### np.arange, np.linspace\n",
    "We can create a collection of numbers $[a, b)$ using the function `arange` (similar to `range` in Python)"
   ]
  },
  {
   "cell_type": "code",
   "execution_count": 75,
   "id": "66e76999",
   "metadata": {},
   "outputs": [
    {
     "data": {
      "text/plain": [
       "array([0, 1, 2, 3, 4, 5, 6, 7, 8, 9])"
      ]
     },
     "execution_count": 75,
     "metadata": {},
     "output_type": "execute_result"
    }
   ],
   "source": [
    "np.arange(10)"
   ]
  },
  {
   "cell_type": "code",
   "execution_count": 76,
   "id": "72b7be69",
   "metadata": {},
   "outputs": [
    {
     "data": {
      "text/plain": [
       "array([2. , 2.5, 3. , 3.5, 4. , 4.5])"
      ]
     },
     "execution_count": 76,
     "metadata": {},
     "output_type": "execute_result"
    }
   ],
   "source": [
    "np.arange(start = 2, stop = 5, step = 0.5)"
   ]
  },
  {
   "cell_type": "markdown",
   "id": "3628c2e6",
   "metadata": {},
   "source": [
    "## Slicing"
   ]
  },
  {
   "cell_type": "code",
   "execution_count": 77,
   "id": "33e33f9a",
   "metadata": {},
   "outputs": [
    {
     "name": "stdout",
     "output_type": "stream",
     "text": [
      "[[ 0  1  2  3  4]\n",
      " [ 5  6  7  8  9]\n",
      " [10 11 12 13 14]\n",
      " [15 16 17 18 19]\n",
      " [20 21 22 23 24]]\n",
      "\n",
      " The element is:  7\n"
     ]
    }
   ],
   "source": [
    "arr = np.arange(25).reshape(5, 5)\n",
    "print(arr)\n",
    "row, column = 1, 2\n",
    "print('\\n The element is: ',arr[row, column])"
   ]
  },
  {
   "cell_type": "code",
   "execution_count": 78,
   "id": "9bda088a",
   "metadata": {},
   "outputs": [
    {
     "data": {
      "text/plain": [
       "array([15, 23])"
      ]
     },
     "execution_count": 78,
     "metadata": {},
     "output_type": "execute_result"
    }
   ],
   "source": [
    "rows, columns = [-2, -1], [0, 3]\n",
    "arr[rows, columns]"
   ]
  },
  {
   "cell_type": "code",
   "execution_count": 79,
   "id": "25663817",
   "metadata": {},
   "outputs": [
    {
     "data": {
      "text/plain": [
       "array([[ 0,  1,  2,  3,  4],\n",
       "       [20, 21, 22, 23, 24]])"
      ]
     },
     "execution_count": 79,
     "metadata": {},
     "output_type": "execute_result"
    }
   ],
   "source": [
    "arr[[0, -1],:]"
   ]
  },
  {
   "cell_type": "markdown",
   "id": "ace2fec4",
   "metadata": {},
   "source": [
    "## Randomness in numpy"
   ]
  },
  {
   "cell_type": "markdown",
   "id": "7995cb02",
   "metadata": {},
   "source": [
    "### discrete uniform"
   ]
  },
  {
   "cell_type": "code",
   "execution_count": 80,
   "id": "b94f5244",
   "metadata": {},
   "outputs": [
    {
     "data": {
      "text/plain": [
       "array([[ -15,  -18, -100,  -89,  -61],\n",
       "       [ -76,  -87,  -86,  -85,  -85]])"
      ]
     },
     "execution_count": 80,
     "metadata": {},
     "output_type": "execute_result"
    }
   ],
   "source": [
    "np.random.randint(-100, -1, size=(2, 5))"
   ]
  },
  {
   "cell_type": "markdown",
   "id": "8cebf5d8",
   "metadata": {},
   "source": [
    "### standard normal"
   ]
  },
  {
   "cell_type": "code",
   "execution_count": 81,
   "id": "58d920c7",
   "metadata": {},
   "outputs": [
    {
     "data": {
      "text/plain": [
       "array([[ 0.36290056,  0.65617742,  0.03380807, -0.00756321,  0.12587268],\n",
       "       [ 0.16228113, -0.96793934, -0.532243  ,  2.13621724,  2.57094212]])"
      ]
     },
     "execution_count": 81,
     "metadata": {},
     "output_type": "execute_result"
    }
   ],
   "source": [
    "np.random.randn(2,5)"
   ]
  },
  {
   "cell_type": "markdown",
   "id": "723365e9",
   "metadata": {},
   "source": [
    "### continuous uniform $[0,1]$"
   ]
  },
  {
   "cell_type": "code",
   "execution_count": 82,
   "id": "1f9df745",
   "metadata": {},
   "outputs": [
    {
     "data": {
      "text/plain": [
       "array([[0.32438075, 0.70168168, 0.45904833, 0.56099532, 0.165185  ],\n",
       "       [0.26319163, 0.94248474, 0.89028769, 0.24328974, 0.52557723]])"
      ]
     },
     "execution_count": 82,
     "metadata": {},
     "output_type": "execute_result"
    }
   ],
   "source": [
    "np.random.rand(2,5)"
   ]
  },
  {
   "cell_type": "code",
   "execution_count": 83,
   "id": "5d6e1f18",
   "metadata": {},
   "outputs": [
    {
     "name": "stdout",
     "output_type": "stream",
     "text": [
      "[1 1]\n",
      "This is np.where:  (array([2, 4]),)\n"
     ]
    }
   ],
   "source": [
    "# np.where gives true/false depending on the statement \n",
    "\n",
    "a4 = np.array([-1, 0,  1, -2, 1, 0, -4])\n",
    "print(a4 [np.where(a4 > 0)] )\n",
    "\n",
    "#Equivalente\n",
    "print('This is np.where: ',np.where(a4 > 0))"
   ]
  },
  {
   "cell_type": "code",
   "execution_count": 84,
   "id": "5d0844da",
   "metadata": {},
   "outputs": [
    {
     "name": "stdout",
     "output_type": "stream",
     "text": [
      "[[1]\n",
      " [1]]\n",
      "This is np.argwhere:  [[2]\n",
      " [4]]\n"
     ]
    }
   ],
   "source": [
    "# np.argwhere gives the index for which the condition is true\n",
    "\n",
    "a4 = np.array([-1, 0,  1, -2, 1, 0, -4])\n",
    "print(a4[np.argwhere(a4 > 0)] )\n",
    "\n",
    "#Equivalente\n",
    "print('This is np.argwhere: ',np.argwhere(a4 > 0))"
   ]
  },
  {
   "cell_type": "markdown",
   "id": "07d97c76",
   "metadata": {},
   "source": [
    "## Broadcasting\n",
    "**Broadcasting** \n",
    "For $A$, $B$, two arrays, their dimensions are compatible if:\n",
    "\n",
    "1. they are the same;\n",
    "2. they are the same except for 1 dimension equal to 1"
   ]
  },
  {
   "cell_type": "code",
   "execution_count": 85,
   "id": "3138e03f",
   "metadata": {},
   "outputs": [
    {
     "name": "stdout",
     "output_type": "stream",
     "text": [
      "[[ 0  1  2  3  4]\n",
      " [ 5  6  7  8  9]\n",
      " [10 11 12 13 14]\n",
      " [15 16 17 18 19]\n",
      " [20 21 22 23 24]]\n",
      "[[0 1 2 3 4]]\n"
     ]
    }
   ],
   "source": [
    "A = np.arange(25).reshape(5, 5)\n",
    "B = np.arange(5).reshape(1, 5)\n",
    "\n",
    "print(A)\n",
    "print(B)"
   ]
  },
  {
   "cell_type": "markdown",
   "id": "0fe26ea9",
   "metadata": {},
   "source": [
    "```\n",
    "If an operation involves a n-by-m np.array and n-by-1 then, the n-by-1 will be 'repeated' so that it becomes n-by-m and then numpy performs the operation.\n",
    "```"
   ]
  },
  {
   "cell_type": "code",
   "execution_count": 86,
   "id": "9f3f0eda",
   "metadata": {},
   "outputs": [
    {
     "data": {
      "text/plain": [
       "array([[ 0,  0,  0,  0,  0],\n",
       "       [ 5,  6,  7,  8,  9],\n",
       "       [20, 22, 24, 26, 28],\n",
       "       [45, 48, 51, 54, 57],\n",
       "       [80, 84, 88, 92, 96]])"
      ]
     },
     "execution_count": 86,
     "metadata": {},
     "output_type": "execute_result"
    }
   ],
   "source": [
    "A = np.arange(25).reshape(5, 5)\n",
    "B = np.arange(5).reshape(5, 1)\n",
    "A * B"
   ]
  },
  {
   "cell_type": "markdown",
   "id": "b033694a",
   "metadata": {},
   "source": [
    "```\n",
    "Below the other example for a n-by-m np.array and 1-by-m arrays.\n",
    "```"
   ]
  },
  {
   "cell_type": "code",
   "execution_count": 87,
   "id": "d0466196",
   "metadata": {},
   "outputs": [
    {
     "data": {
      "text/plain": [
       "array([[ 0,  1,  4,  9, 16],\n",
       "       [ 0,  6, 14, 24, 36],\n",
       "       [ 0, 11, 24, 39, 56],\n",
       "       [ 0, 16, 34, 54, 76],\n",
       "       [ 0, 21, 44, 69, 96]])"
      ]
     },
     "execution_count": 87,
     "metadata": {},
     "output_type": "execute_result"
    }
   ],
   "source": [
    "A = np.arange(25).reshape(5, 5)\n",
    "B = np.arange(5).reshape(1, 5)\n",
    "A * B"
   ]
  },
  {
   "cell_type": "markdown",
   "id": "516b9367",
   "metadata": {},
   "source": [
    "## Common methods in numpy"
   ]
  },
  {
   "cell_type": "code",
   "execution_count": 88,
   "id": "e0fa1b71",
   "metadata": {},
   "outputs": [
    {
     "data": {
      "text/plain": [
       "array([0., 0., 0., 0., 0., 0., 0., 0., 0., 0.])"
      ]
     },
     "execution_count": 88,
     "metadata": {},
     "output_type": "execute_result"
    }
   ],
   "source": [
    "np.zeros(shape=10)"
   ]
  },
  {
   "cell_type": "code",
   "execution_count": 89,
   "id": "01a69df1",
   "metadata": {},
   "outputs": [
    {
     "data": {
      "text/plain": [
       "array([[0., 0., 0.],\n",
       "       [0., 0., 0.]])"
      ]
     },
     "execution_count": 89,
     "metadata": {},
     "output_type": "execute_result"
    }
   ],
   "source": [
    "np.zeros(shape=(2,3))"
   ]
  },
  {
   "cell_type": "code",
   "execution_count": 90,
   "id": "6512c762",
   "metadata": {},
   "outputs": [
    {
     "data": {
      "text/plain": [
       "array([[[1., 1., 1., 1., 1.],\n",
       "        [1., 1., 1., 1., 1.],\n",
       "        [1., 1., 1., 1., 1.]],\n",
       "\n",
       "       [[1., 1., 1., 1., 1.],\n",
       "        [1., 1., 1., 1., 1.],\n",
       "        [1., 1., 1., 1., 1.]]])"
      ]
     },
     "execution_count": 90,
     "metadata": {},
     "output_type": "execute_result"
    }
   ],
   "source": [
    "np.ones(shape=(2,3,5))"
   ]
  },
  {
   "cell_type": "code",
   "execution_count": 91,
   "id": "ccfd67e0",
   "metadata": {},
   "outputs": [
    {
     "name": "stdout",
     "output_type": "stream",
     "text": [
      "[[[2. 2. 2. 2. 2.]\n",
      "  [2. 2. 2. 2. 2.]\n",
      "  [2. 2. 2. 2. 2.]]\n",
      "\n",
      " [[3. 3. 3. 3. 3.]\n",
      "  [3. 3. 3. 3. 3.]\n",
      "  [3. 3. 3. 3. 3.]]]\n",
      "[[5. 5. 5. 5. 5.]\n",
      " [5. 5. 5. 5. 5.]\n",
      " [5. 5. 5. 5. 5.]]\n"
     ]
    }
   ],
   "source": [
    "x = np.ones(shape=(2,3,5))\n",
    "x[0,:,:] += 1\n",
    "x[1,:,:] += 2\n",
    "y = x.sum(axis = 0)\n",
    "print(x)\n",
    "print(y)"
   ]
  },
  {
   "cell_type": "markdown",
   "id": "14f9d0ed",
   "metadata": {},
   "source": [
    "## np.eye and np.identity are the same"
   ]
  },
  {
   "cell_type": "code",
   "execution_count": 92,
   "id": "1db21188",
   "metadata": {},
   "outputs": [
    {
     "data": {
      "text/plain": [
       "array([[1., 0., 0., 0., 0.],\n",
       "       [0., 1., 0., 0., 0.],\n",
       "       [0., 0., 1., 0., 0.],\n",
       "       [0., 0., 0., 1., 0.],\n",
       "       [0., 0., 0., 0., 1.]])"
      ]
     },
     "execution_count": 92,
     "metadata": {},
     "output_type": "execute_result"
    }
   ],
   "source": [
    "np.identity(5)"
   ]
  },
  {
   "cell_type": "code",
   "execution_count": 93,
   "id": "dac8c8c6",
   "metadata": {},
   "outputs": [
    {
     "data": {
      "text/plain": [
       "array([[1., 0., 0., 0., 0.],\n",
       "       [0., 1., 0., 0., 0.],\n",
       "       [0., 0., 1., 0., 0.],\n",
       "       [0., 0., 0., 1., 0.],\n",
       "       [0., 0., 0., 0., 1.]])"
      ]
     },
     "execution_count": 93,
     "metadata": {},
     "output_type": "execute_result"
    }
   ],
   "source": [
    "np.eye(5)"
   ]
  },
  {
   "cell_type": "markdown",
   "id": "0a41d3bd",
   "metadata": {},
   "source": [
    "## Try this:\n",
    "```python\n",
    "a2 = np.random.randint(-100, 100, 10)\n",
    "\n",
    "a2.min()\n",
    "\n",
    "a2.max()\n",
    "\n",
    "a2.argmax()\n",
    "\n",
    "a2.sum()\n",
    "\n",
    "a2.cumsum()\n",
    "\n",
    "np.unique(a2)\n",
    "```"
   ]
  },
  {
   "cell_type": "markdown",
   "id": "d1b8ad51",
   "metadata": {},
   "source": [
    "# The following is inefficient (is a for loop under the hood) but can be handy"
   ]
  },
  {
   "cell_type": "markdown",
   "id": "71c195ee",
   "metadata": {},
   "source": [
    "### See next chapter on JAX to work around this"
   ]
  },
  {
   "cell_type": "markdown",
   "id": "db8b2e28",
   "metadata": {},
   "source": [
    "# Applying a function over a given axis\n",
    "\n",
    "Numpy allows one to execute a function over a given axis of choice with `np.apply_along_axis(func1d, axis, arr, *args, **kwargs)`, where `func1d` is a function $f:\\mathbb{R}^n \\to \\mathbb{R}^m$, `axis` is the desired execution axis: *0* across rows and *1* across columns; `arr` es el numpy array a manipular."
   ]
  },
  {
   "cell_type": "code",
   "execution_count": 94,
   "id": "908aacd7",
   "metadata": {},
   "outputs": [
    {
     "data": {
      "text/plain": [
       "array([[-5, -4,  8],\n",
       "       [ 8, -4, -8],\n",
       "       [-3,  8, -3],\n",
       "       [-6,  8, -2],\n",
       "       [-9,  0,  4]])"
      ]
     },
     "execution_count": 94,
     "metadata": {},
     "output_type": "execute_result"
    }
   ],
   "source": [
    "from numpy.random import randint, seed\n",
    "seed(1643)\n",
    "a3 = randint(-10, 10, size=(5,3))\n",
    "a3"
   ]
  },
  {
   "cell_type": "code",
   "execution_count": 95,
   "id": "2ae024d1",
   "metadata": {},
   "outputs": [],
   "source": [
    "def my_function(x):\n",
    "    print('this is x: ',x)"
   ]
  },
  {
   "cell_type": "code",
   "execution_count": 96,
   "id": "6d4b5059",
   "metadata": {},
   "outputs": [
    {
     "name": "stdout",
     "output_type": "stream",
     "text": [
      "this is x:  [-5 -4  8]\n",
      "this is x:  [ 8 -4 -8]\n",
      "this is x:  [-3  8 -3]\n",
      "this is x:  [-6  8 -2]\n",
      "this is x:  [-9  0  4]\n"
     ]
    }
   ],
   "source": [
    "resultado = np.apply_along_axis(my_function, axis=1, arr=a3)"
   ]
  },
  {
   "cell_type": "markdown",
   "id": "80831ead",
   "metadata": {},
   "source": [
    "# Making pretty plots"
   ]
  },
  {
   "cell_type": "code",
   "execution_count": 97,
   "id": "6bac71e2",
   "metadata": {},
   "outputs": [],
   "source": [
    "import matplotlib.pyplot as plt"
   ]
  },
  {
   "cell_type": "code",
   "execution_count": 98,
   "id": "d6be0d3d",
   "metadata": {},
   "outputs": [
    {
     "data": {
      "image/png": "[encoded data removed]",
      "text/plain": [
       "<Figure size 640x480 with 1 Axes>"
      ]
     },
     "metadata": {},
     "output_type": "display_data"
    }
   ],
   "source": [
    "x, y = [1, 4, 7], [4, 1, 1]\n",
    "plt.plot(x, y)\n",
    "plt.show()"
   ]
  },
  {
   "cell_type": "markdown",
   "id": "dead7906",
   "metadata": {},
   "source": [
    "# Basic formatting [fmt]\n",
    "\n",
    "Taken from ``` help(plt.plot) ```  *fmt* is used for colors and markers within ```plot```. \n",
    "\n",
    "```\n",
    " \n",
    "    **Markers**\n",
    "    \n",
    "    =============    ===============================\n",
    "    character        description\n",
    "    =============    ===============================\n",
    "    ``'.'``          point marker\n",
    "    ``','``          pixel marker\n",
    "    ``'o'``          circle marker\n",
    "    ``'v'``          triangle_down marker\n",
    "    ``'^'``          triangle_up marker\n",
    "    ``'<'``          triangle_left marker\n",
    "    ``'>'``          triangle_right marker\n",
    "    ``'1'``          tri_down marker\n",
    "    ``'2'``          tri_up marker\n",
    "    ``'3'``          tri_left marker\n",
    "    ``'4'``          tri_right marker\n",
    "    ``'s'``          square marker\n",
    "    ``'p'``          pentagon marker\n",
    "    ``'*'``          star marker\n",
    "    ``'h'``          hexagon1 marker\n",
    "    ``'H'``          hexagon2 marker\n",
    "    ``'+'``          plus marker\n",
    "    ``'x'``          x marker\n",
    "    ``'D'``          diamond marker\n",
    "    ``'d'``          thin_diamond marker\n",
    "    ``'|'``          vline marker\n",
    "    ``'_'``          hline marker\n",
    "    =============    ===============================\n",
    "    \n",
    "    **Line Styles**\n",
    "    \n",
    "    =============    ===============================\n",
    "    character        description\n",
    "    =============    ===============================\n",
    "    ``'-'``          solid line style\n",
    "    ``'--'``         dashed line style\n",
    "    ``'-.'``         dash-dot line style\n",
    "    ``':'``          dotted line style\n",
    "    =============    ===============================\n",
    "    \n",
    "    Example format strings::\n",
    "    \n",
    "        'b'    # blue markers with default shape\n",
    "        'or'   # red circles\n",
    "        '-g'   # green solid line\n",
    "        '--'   # dashed line with default color\n",
    "        '^k:'  # black triangle_up markers connected by a dotted line\n",
    "    \n",
    "    **Colors**\n",
    "    \n",
    "    The supported color abbreviations are the single letter codes\n",
    "    \n",
    "    =============    ===============================\n",
    "    character        color\n",
    "    =============    ===============================\n",
    "    ``'b'``          blue\n",
    "    ``'g'``          green\n",
    "    ``'r'``          red\n",
    "    ``'c'``          cyan\n",
    "    ``'m'``          magenta\n",
    "    ``'y'``          yellow\n",
    "    ``'k'``          black\n",
    "    ``'w'``          white\n",
    "    =============    ===============================\n",
    "    \n",
    "     If the color is the only part of the format string, you can additionally use any  `matplotlib.colors` spec, e.g. full names (``'green'``) or hex strings (``'#008000'``).\n",
    "```"
   ]
  },
  {
   "cell_type": "code",
   "execution_count": 99,
   "id": "4beb1199",
   "metadata": {},
   "outputs": [],
   "source": [
    "x_vals = np.linspace(-1, 1, 50)\n",
    "y_vals = x_vals**2"
   ]
  },
  {
   "cell_type": "code",
   "execution_count": 100,
   "id": "86c0abe1",
   "metadata": {},
   "outputs": [
    {
     "data": {
      "image/png": "[encoded data removed]",
      "text/plain": [
       "<Figure size 640x480 with 1 Axes>"
      ]
     },
     "metadata": {},
     "output_type": "display_data"
    },
    {
     "data": {
      "image/png": "[encoded data removed]",
      "text/plain": [
       "<Figure size 640x480 with 1 Axes>"
      ]
     },
     "metadata": {},
     "output_type": "display_data"
    }
   ],
   "source": [
    "plt.plot(x_vals, y_vals, color = 'red', linestyle = '-.', marker = 'H')\n",
    "plt.show()\n",
    "\n",
    "# a nicer color than red is tab:red, similar for blue and tab:blue, etc\n",
    "\n",
    "# The same can be achieved with the more compact notation\n",
    "plt.plot(x_vals, y_vals, 'Hr-.')\n",
    "plt.show()"
   ]
  },
  {
   "cell_type": "code",
   "execution_count": 101,
   "id": "d86cf858",
   "metadata": {},
   "outputs": [
    {
     "data": {
      "image/png": "[encoded data removed]",
      "text/plain": [
       "<Figure size 640x480 with 1 Axes>"
      ]
     },
     "metadata": {},
     "output_type": "display_data"
    }
   ],
   "source": [
    "# You can use colors from:\n",
    "# https://www.color-hex.com\n",
    "plt.plot(x_vals, y_vals, '#ec06cb')\n",
    "plt.show()"
   ]
  },
  {
   "cell_type": "code",
   "execution_count": 102,
   "id": "c1f8bf93",
   "metadata": {},
   "outputs": [
    {
     "data": {
      "image/png": "[encoded data removed]",
      "text/plain": [
       "<Figure size 640x480 with 1 Axes>"
      ]
     },
     "metadata": {},
     "output_type": "display_data"
    }
   ],
   "source": [
    "x1, x2 = [1, 1, 2, 3, 4, 5, 4.5], [-0.1, 0.3, 0.2, 0.4, 0.7, 0.9, 0.5]\n",
    "plt.scatter(x1, x2)\n",
    "plt.plot(x1, x2)\n",
    "plt.show()"
   ]
  },
  {
   "cell_type": "code",
   "execution_count": 103,
   "id": "5fb45288",
   "metadata": {},
   "outputs": [
    {
     "data": {
      "image/png": "[encoded data removed]",
      "text/plain": [
       "<Figure size 640x480 with 1 Axes>"
      ]
     },
     "metadata": {},
     "output_type": "display_data"
    }
   ],
   "source": [
    "x, y = [1, 2, 7], [4, 7, 1]\n",
    "plt.plot(x, y, linestyle=\"dashed\", linewidth=4)\n",
    "plt.show()"
   ]
  },
  {
   "cell_type": "code",
   "execution_count": 104,
   "id": "3cb922b1",
   "metadata": {},
   "outputs": [
    {
     "data": {
      "image/png": "[encoded data removed]",
      "text/plain": [
       "<Figure size 640x480 with 1 Axes>"
      ]
     },
     "metadata": {},
     "output_type": "display_data"
    }
   ],
   "source": [
    "# Transparency\n",
    "x, y = [1, 2, 7], [4, 7, 1]\n",
    "plt.plot(x, y, alpha=0.8)\n",
    "plt.plot(y, x, color = 'g', alpha=0.4)\n",
    "plt.show()"
   ]
  },
  {
   "cell_type": "code",
   "execution_count": 105,
   "id": "ca9dc0e6",
   "metadata": {},
   "outputs": [
    {
     "data": {
      "image/png": "[encoded data removed]",
      "text/plain": [
       "<Figure size 640x480 with 1 Axes>"
      ]
     },
     "metadata": {},
     "output_type": "display_data"
    }
   ],
   "source": [
    "x, y = [1, 2, 7], [4, 7, 1]\n",
    "plt.plot(x, y, drawstyle=\"steps-post\", color = 'r', alpha = 0.6)\n",
    "plt.plot(x, y, drawstyle=\"steps-pre\", color = 'c', alpha = 0.4)\n",
    "plt.plot(x,y, 'g.', markersize = 15)\n",
    "plt.show()"
   ]
  },
  {
   "cell_type": "code",
   "execution_count": 106,
   "id": "848303d9",
   "metadata": {},
   "outputs": [
    {
     "data": {
      "image/png": "[encoded data removed]",
      "text/plain": [
       "<Figure size 640x480 with 1 Axes>"
      ]
     },
     "metadata": {},
     "output_type": "display_data"
    }
   ],
   "source": [
    "# Label and legend\n",
    "x, y = [1, 2, 7], [4, 7, 1]\n",
    "plt.plot(x, y, color=\"crimson\", linewidth=4, alpha=0.6,\n",
    "         linestyle=\"dashed\" ,label=\"Línea 1\")\n",
    "\n",
    "plt.plot(y, x, color=\"green\", linewidth=2, \n",
    "         linestyle=\":\" ,label=\"Línea 2\")\n",
    "\n",
    "plt.legend(loc=\"lower left\")\n",
    "\n",
    "plt.title('This is a title')\n",
    "\n",
    "plt.ylabel(r'$Y$ label')\n",
    "\n",
    "plt.xlabel(r'$X$ label')\n",
    "\n",
    "plt.show()"
   ]
  },
  {
   "cell_type": "markdown",
   "id": "6f739c42",
   "metadata": {},
   "source": [
    "## A nicer version of the same plot"
   ]
  },
  {
   "cell_type": "code",
   "execution_count": 107,
   "id": "4a3dddcc",
   "metadata": {},
   "outputs": [],
   "source": [
    "import matplotlib.pylab as pylab\n",
    "params = {'legend.fontsize': 'x-large',\n",
    "          'figure.figsize': (15, 5),\n",
    "         'axes.labelsize': 'x-large',\n",
    "         'axes.titlesize':'x-large',\n",
    "         'xtick.labelsize':'x-large',\n",
    "         'ytick.labelsize':'x-large'}\n",
    "pylab.rcParams.update(params)\n",
    "%config InlineBackend.figure_format = \"retina\""
   ]
  },
  {
   "cell_type": "code",
   "execution_count": 108,
   "id": "1b53302e",
   "metadata": {},
   "outputs": [
    {
     "data": {
      "image/png": "[encoded data removed]",
      "text/plain": [
       "<Figure size 640x480 with 1 Axes>"
      ]
     },
     "metadata": {
      "image/png": {
       "height": 465,
       "width": 560
      }
     },
     "output_type": "display_data"
    }
   ],
   "source": [
    "# Label and legend\n",
    "x, y = [1, 2, 7], [4, 7, 1]\n",
    "plt.figure(figsize=(6.4,4.8))\n",
    "plt.plot(x, y, color=\"crimson\", linewidth=4, alpha=0.6,\n",
    "         linestyle=\"dashed\" ,label=\"Línea 1\")\n",
    "\n",
    "plt.plot(y, x, color=\"green\", linewidth=2, \n",
    "         linestyle=\":\" ,label=\"Línea 2\")\n",
    "\n",
    "plt.legend(loc=\"lower left\")\n",
    "\n",
    "plt.title('This is a title')\n",
    "\n",
    "plt.ylabel(r'$Y$ label', fontsize = 13)\n",
    "\n",
    "plt.xlabel(r'$X$ label', fontsize = 13)\n",
    "\n",
    "plt.show()"
   ]
  },
  {
   "cell_type": "code",
   "execution_count": 109,
   "id": "0f744530",
   "metadata": {},
   "outputs": [
    {
     "data": {
      "image/png": "[encoded data removed]",
      "text/plain": [
       "<Figure size 2000x600 with 2 Axes>"
      ]
     },
     "metadata": {
      "image/png": {
       "height": 645,
       "width": 1744
      }
     },
     "output_type": "display_data"
    }
   ],
   "source": [
    "plt.style.use('ggplot')\n",
    "x = np.linspace(-5,5, 100)\n",
    "y1 = np.sin(x)\n",
    "y2 = np.cos(x)\n",
    "\n",
    "#figsize=(10->width, 3->Height) in inches\n",
    "fig = plt.figure(figsize=(10, 3), dpi=200)\n",
    "\n",
    "#ax1 controlls the first (left plot)\n",
    "#last index controls the subplot (starts at 1)\n",
    "ax1 = fig.add_subplot(1, 2, 1)\n",
    "\n",
    "# Plot for ax1\n",
    "ax1.plot(x, y1, color=\"crimson\", lw = 3)\n",
    "ax1.plot(y1, x, '-.g', lw =3, alpha = 0.5)\n",
    "ax1.set_xlabel('X label ax1')\n",
    "ax1.set_ylabel('Y label ax1')\n",
    "ax1.set_title('Tile ax1')\n",
    "\n",
    "#ax2 controlls the second (right plot)\n",
    "#last index controls the subplot (starts at 1)\n",
    "ax2 = fig.add_subplot(1, 2, 2)\n",
    "\n",
    "# Plot for ax2\n",
    "ax2.plot(x, y2, color=\"crimson\", lw = 3)\n",
    "ax2.set_xlabel('X label ax2')\n",
    "ax2.set_ylabel('Y label ax2')\n",
    "ax2.set_title('Tile ax2')\n",
    "\n",
    "# save the figure\n",
    "plt.savefig('my_plot.pdf', format = 'pdf',dpi = 100)\n",
    "plt.show()"
   ]
  }
 ],
 "metadata": {
  "kernelspec": {
   "display_name": "Python 3 (ipykernel)",
   "language": "python",
   "name": "python3"
  },
  "language_info": {
   "codemirror_mode": {
    "name": "ipython",
    "version": 3
   },
   "file_extension": ".py",
   "mimetype": "text/x-python",
   "name": "python",
   "nbconvert_exporter": "python",
   "pygments_lexer": "ipython3",
   "version": "3.10.9"
  }
 },
 "nbformat": 4,
 "nbformat_minor": 5
}
