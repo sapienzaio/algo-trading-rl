{
 "cells": [
  {
   "cell_type": "markdown",
   "id": "186671d9",
   "metadata": {},
   "source": [
    "# WELCOME TO PYTHON"
   ]
  },
  {
   "cell_type": "markdown",
   "id": "e4883b72",
   "metadata": {},
   "source": [
    "```\n",
    "This will be a (brief) introduction to Python using Jupyter notebooks.\n",
    "Roughly, we are going to cover the following material:\n",
    "\n",
    "1) Strings, int, float, dict, lists, sets\n",
    "2) functions\n",
    "3) numpy\n",
    "4) matplotlib\n",
    "```"
   ]
  },
  {
   "cell_type": "markdown",
   "id": "45fd607d",
   "metadata": {},
   "source": [
    "## Let's start with 'str'"
   ]
  },
  {
   "cell_type": "markdown",
   "id": "17f8547d",
   "metadata": {},
   "source": [
    "Strings are used quite frequently within Python. To create a string just have text between \" \" or ' ', for example:"
   ]
  },
  {
   "cell_type": "code",
   "execution_count": 2,
   "id": "13c39028",
   "metadata": {},
   "outputs": [
    {
     "data": {
      "text/plain": [
       "str"
      ]
     },
     "execution_count": 2,
     "metadata": {},
     "output_type": "execute_result"
    }
   ],
   "source": [
    "type(\"this is a 'string'\")"
   ]
  },
  {
   "cell_type": "code",
   "execution_count": 3,
   "id": "ac68bb56",
   "metadata": {},
   "outputs": [
    {
     "name": "stdout",
     "output_type": "stream",
     "text": [
      "this is a 'string'\n"
     ]
    }
   ],
   "source": [
    "print(\"this is a 'string'\")"
   ]
  },
  {
   "cell_type": "markdown",
   "id": "e88419f3",
   "metadata": {},
   "source": [
    "Use \\n to add new lines within a string, for example"
   ]
  },
  {
   "cell_type": "code",
   "execution_count": 10,
   "id": "a5ba0f6c",
   "metadata": {},
   "outputs": [
    {
     "name": "stdout",
     "output_type": "stream",
     "text": [
      "Python is the present\n",
      "Jax is the future\n"
     ]
    }
   ],
   "source": [
    "print('Python is the present\\nJax is the future')"
   ]
  },
  {
   "cell_type": "markdown",
   "id": "326f9c6d",
   "metadata": {},
   "source": [
    "Each object in python has methods. Strings are not the exception.\n",
    "\n",
    "Feel free to try these later: \n",
    "```python\n",
    ".title() \n",
    "\n",
    ".upper() \n",
    "\n",
    ".strip()\n",
    "```\n",
    "\n",
    "Other useful methods are \n",
    "\n",
    "```python\n",
    "\"The Importance of Being Earnest\".find(\"Importance\")\n",
    "\n",
    "\"The roeman empire\".replace(\"roeman\", \"roman\")\n",
    "```"
   ]
  },
  {
   "cell_type": "markdown",
   "id": "c3a5e99a",
   "metadata": {},
   "source": [
    "Accessing parts of the string (this will also be relevant later)"
   ]
  },
  {
   "cell_type": "markdown",
   "id": "40fa4a45",
   "metadata": {},
   "source": [
    "Python puede contar de izquierda a derecha (empezando con 0) y de derecha a izquierda (empezando con -1)\n",
    "```c\n",
    " P   Y   T   H   O   N\n",
    " 0   1   2   3   4   5\n",
    "-6  -5  -4  -3  -2  -1\n",
    "```"
   ]
  },
  {
   "cell_type": "markdown",
   "id": "58e0e39d",
   "metadata": {},
   "source": [
    "What will the following operations produce?\n",
    "\n",
    "```python\n",
    "\"Leandro\"[-1]\n",
    "\"Gerardo\"[1]\n",
    "\"ML\"[0]\n",
    "```"
   ]
  },
  {
   "cell_type": "markdown",
   "id": "dbaae8a2",
   "metadata": {},
   "source": [
    "Sometimes you need more than just one element. Slicing works as follows:"
   ]
  },
  {
   "cell_type": "code",
   "execution_count": 16,
   "id": "1e0ebc4c",
   "metadata": {},
   "outputs": [
    {
     "data": {
      "text/plain": [
       "'lic'"
      ]
     },
     "execution_count": 16,
     "metadata": {},
     "output_type": "execute_result"
    }
   ],
   "source": [
    "ini = 1\n",
    "fin = 4\n",
    "\"slicing\"[ini:fin]"
   ]
  },
  {
   "cell_type": "markdown",
   "id": "5ce5120c",
   "metadata": {},
   "source": [
    "## Next, we study 'int' and 'float'"
   ]
  },
  {
   "cell_type": "code",
   "execution_count": 17,
   "id": "a67a7747",
   "metadata": {},
   "outputs": [
    {
     "data": {
      "text/plain": [
       "int"
      ]
     },
     "execution_count": 17,
     "metadata": {},
     "output_type": "execute_result"
    }
   ],
   "source": [
    "type(4)"
   ]
  },
  {
   "cell_type": "code",
   "execution_count": 18,
   "id": "f60e0cb8",
   "metadata": {},
   "outputs": [
    {
     "data": {
      "text/plain": [
       "float"
      ]
     },
     "execution_count": 18,
     "metadata": {},
     "output_type": "execute_result"
    }
   ],
   "source": [
    "type(4.)"
   ]
  },
  {
   "cell_type": "markdown",
   "id": "4deae7e2",
   "metadata": {},
   "source": [
    "#### Operations"
   ]
  },
  {
   "cell_type": "markdown",
   "id": "186135c8",
   "metadata": {},
   "source": [
    "```python\n",
    "5 + 4\n",
    "5 - 4\n",
    "5 * 4\n",
    "5 / 4\n",
    "5 // 4 \n",
    "5 ** 4\n",
    "5 % 2\n",
    "```"
   ]
  },
  {
   "cell_type": "markdown",
   "id": "3dec60dd",
   "metadata": {},
   "source": [
    "#### Numerical functions"
   ]
  },
  {
   "cell_type": "markdown",
   "id": "1323f57b",
   "metadata": {},
   "source": [
    "```python\n",
    "round(3.141592653589793, 3)\n",
    "max(-3, 1, 9, 4.9)\n",
    "min(-3, 1)\n",
    "complex(1, 2)\n",
    "bin(10)\n",
    "format(1e10, \",.2f\")\n",
    "format(0.7645, \".2%\")\n",
    "float(\"3.9999\")\n",
    "int(\"10\")\n",
    "```"
   ]
  },
  {
   "cell_type": "code",
   "execution_count": 26,
   "id": "0a6a991f",
   "metadata": {},
   "outputs": [
    {
     "data": {
      "text/plain": [
       "'10,000,000,000.00'"
      ]
     },
     "execution_count": 26,
     "metadata": {},
     "output_type": "execute_result"
    }
   ],
   "source": [
    "format(1e10, \",.2f\")"
   ]
  },
  {
   "cell_type": "code",
   "execution_count": 27,
   "id": "8f730253",
   "metadata": {},
   "outputs": [
    {
     "data": {
      "text/plain": [
       "'76.45%'"
      ]
     },
     "execution_count": 27,
     "metadata": {},
     "output_type": "execute_result"
    }
   ],
   "source": [
    "format(0.7645, \".2%\")"
   ]
  },
  {
   "cell_type": "markdown",
   "id": "a28b73a6",
   "metadata": {},
   "source": [
    "# Variables"
   ]
  },
  {
   "cell_type": "markdown",
   "id": "2d152d40",
   "metadata": {},
   "source": [
    "A variable is the direction to a place in memory where an object lives. They are used as follows:\n",
    "\n",
    "```c\n",
    "nombre_variable = <objeto>\n",
    "```\n",
    "\n",
    "Rules:\n",
    "\n",
    "1) Variables can contain numbers, letters and underscores\n",
    "2) Variables cannot start with a number\n",
    "3) Variables distinguish between uppercase and lowercase"
   ]
  },
  {
   "cell_type": "code",
   "execution_count": 45,
   "id": "ea6872b3",
   "metadata": {},
   "outputs": [
    {
     "name": "stdout",
     "output_type": "stream",
     "text": [
      "Leandro Sanchez-Betancourt\n"
     ]
    }
   ],
   "source": [
    "name = \"Leandro\"\n",
    "last_name = \"Sanchez-Betancourt\"\n",
    "affiliation = \"OMI\"\n",
    "print(name, last_name)"
   ]
  },
  {
   "cell_type": "code",
   "execution_count": 46,
   "id": "fe76aaff",
   "metadata": {},
   "outputs": [
    {
     "name": "stdout",
     "output_type": "stream",
     "text": [
      "Leandro...Sanchez-Betancourt...OMI\n"
     ]
    }
   ],
   "source": [
    "print(name, last_name, sep=\"...\", end=\"...\") ## By default end = \"\\n\" another useful value is \"\\t\" to use tab space\n",
    "print(affiliation)"
   ]
  },
  {
   "cell_type": "code",
   "execution_count": 48,
   "id": "a530623a",
   "metadata": {},
   "outputs": [
    {
     "name": "stdout",
     "output_type": "stream",
     "text": [
      "Welcome Leandro Sanchez-Betancourt from OMI\n"
     ]
    }
   ],
   "source": [
    "print(\"Welcome {} {} from {}\".format(name, last_name, affiliation))"
   ]
  },
  {
   "cell_type": "code",
   "execution_count": 49,
   "id": "187a4b4b",
   "metadata": {},
   "outputs": [
    {
     "name": "stdout",
     "output_type": "stream",
     "text": [
      "Welcome Leandro Sanchez-Betancourt from OMI\n"
     ]
    }
   ],
   "source": [
    "print(f\"Welcome {name} {last_name} from {affiliation}\")"
   ]
  },
  {
   "cell_type": "code",
   "execution_count": 50,
   "id": "07ebe410",
   "metadata": {},
   "outputs": [
    {
     "name": "stdout",
     "output_type": "stream",
     "text": [
      "2 + 5 = 7\n"
     ]
    }
   ],
   "source": [
    "# An f-string can evaluate any expression within the keys {}\n",
    "num1 = 2\n",
    "num2 = 5\n",
    "print(f\"{num1} + {num2} = {num1 + num2}\")"
   ]
  },
  {
   "cell_type": "markdown",
   "id": "7811de1d",
   "metadata": {},
   "source": [
    "# Lists\n",
    "#### [mutable]"
   ]
  },
  {
   "cell_type": "markdown",
   "id": "6d7cc791",
   "metadata": {},
   "source": [
    "A list is defined by separating elements with commas and using square brackets"
   ]
  },
  {
   "cell_type": "code",
   "execution_count": 51,
   "id": "df4acb8c",
   "metadata": {},
   "outputs": [],
   "source": [
    "x = [1, 2, 3]"
   ]
  },
  {
   "cell_type": "code",
   "execution_count": 56,
   "id": "b6eaeecc",
   "metadata": {},
   "outputs": [],
   "source": [
    "y = [[1,2,3],3,[[2,3],[5,2]]]"
   ]
  },
  {
   "cell_type": "code",
   "execution_count": 57,
   "id": "8ba6db14",
   "metadata": {},
   "outputs": [
    {
     "name": "stdout",
     "output_type": "stream",
     "text": [
      "Number of elements of x is 3 and number of elements in y is 3\n"
     ]
    }
   ],
   "source": [
    "print(f'Number of elements of x is {len(x)} and number of elements in y is {len(y)}')"
   ]
  },
  {
   "cell_type": "code",
   "execution_count": 63,
   "id": "58a4da6e",
   "metadata": {},
   "outputs": [
    {
     "data": {
      "text/plain": [
       "1"
      ]
     },
     "execution_count": 63,
     "metadata": {},
     "output_type": "execute_result"
    }
   ],
   "source": [
    "x[0]"
   ]
  },
  {
   "cell_type": "code",
   "execution_count": 65,
   "id": "07bc5fea",
   "metadata": {},
   "outputs": [
    {
     "data": {
      "text/plain": [
       "[1, 2, 3]"
      ]
     },
     "execution_count": 65,
     "metadata": {},
     "output_type": "execute_result"
    }
   ],
   "source": [
    "y[0]"
   ]
  },
  {
   "cell_type": "code",
   "execution_count": 66,
   "id": "9bff3c2e",
   "metadata": {},
   "outputs": [
    {
     "data": {
      "text/plain": [
       "2"
      ]
     },
     "execution_count": 66,
     "metadata": {},
     "output_type": "execute_result"
    }
   ],
   "source": [
    "y[0][1]"
   ]
  },
  {
   "cell_type": "code",
   "execution_count": 68,
   "id": "2ce5c3f1",
   "metadata": {},
   "outputs": [
    {
     "name": "stdout",
     "output_type": "stream",
     "text": [
      "['ALGEBRA', 'GEOMETRY', 'PROGRAMMING', 'STATISTICS']\n"
     ]
    }
   ],
   "source": [
    "# You can delete elements of a list using del\n",
    "lectures = [\"ALGEBRA\", \"FINANCE\", \"OPTIMISATION\", \"GEOMETRY\", \"PROGRAMMING\", \"STATISTICS\"]\n",
    "del lectures[1:3]\n",
    "print(lectures)"
   ]
  },
  {
   "cell_type": "markdown",
   "id": "8711c397",
   "metadata": {},
   "source": [
    "```c\n",
    "Objects such as 1:3 work within [ ] to access a range of values but to define the object itself we need to use slice() as follows\n",
    "```"
   ]
  },
  {
   "cell_type": "code",
   "execution_count": 72,
   "id": "0bb59cd2",
   "metadata": {},
   "outputs": [
    {
     "data": {
      "text/plain": [
       "['GEOMETRY', 'PROGRAMMING']"
      ]
     },
     "execution_count": 72,
     "metadata": {},
     "output_type": "execute_result"
    }
   ],
   "source": [
    "idx = slice(1,3)\n",
    "lectures[idx]"
   ]
  },
  {
   "cell_type": "markdown",
   "id": "dd6c5555",
   "metadata": {},
   "source": [
    "#### Concatenate two lists"
   ]
  },
  {
   "cell_type": "code",
   "execution_count": 74,
   "id": "bbb90ae4",
   "metadata": {},
   "outputs": [
    {
     "data": {
      "text/plain": [
       "['Gauss', 'Fermat', 'Spivak ', 'Oksendal', 'Newton', 'Einstein', 'Maxwell']"
      ]
     },
     "execution_count": 74,
     "metadata": {},
     "output_type": "execute_result"
    }
   ],
   "source": [
    "mathematicians = [\"Gauss\", \"Fermat\", \"Spivak \", \"Oksendal\"]\n",
    "physicists = [\"Newton\", \"Einstein\", \"Maxwell\"]\n",
    "\n",
    "alwhlrawnlfkwafla = mathematicians + physicists\n",
    "alwhlrawnlfkwafla"
   ]
  },
  {
   "cell_type": "code",
   "execution_count": 77,
   "id": "b9888cf6",
   "metadata": {},
   "outputs": [
    {
     "data": {
      "text/plain": [
       "['Gauss', 'Fermat', 'Spivak ', 'Oksendal', 1, 2, 3]"
      ]
     },
     "execution_count": 77,
     "metadata": {},
     "output_type": "execute_result"
    }
   ],
   "source": [
    "mathematicians = [\"Gauss\", \"Fermat\", \"Spivak \", \"Oksendal\"]\n",
    "numbers = [1,2,3]\n",
    "\n",
    "mathematicians + physicists"
   ]
  },
  {
   "cell_type": "markdown",
   "id": "c5be80e5",
   "metadata": {},
   "source": [
    "# Tuples\n",
    "#### (inmutable)"
   ]
  },
  {
   "cell_type": "code",
   "execution_count": 81,
   "id": "895045f0",
   "metadata": {},
   "outputs": [
    {
     "data": {
      "text/plain": [
       "tuple"
      ]
     },
     "execution_count": 81,
     "metadata": {},
     "output_type": "execute_result"
    }
   ],
   "source": [
    "#Tuples are defined using ()\n",
    "lectures = (\"ALGEBRA\", \"FINANCE\", \"OPTIMISATION\", \"GEOMETRY\", \"PROGRAMMING\", \"STATISTICS\")\n",
    "type(lectures)"
   ]
  },
  {
   "cell_type": "code",
   "execution_count": 85,
   "id": "a235849b",
   "metadata": {},
   "outputs": [
    {
     "data": {
      "text/plain": [
       "(1, 2, 3)"
      ]
     },
     "execution_count": 85,
     "metadata": {},
     "output_type": "execute_result"
    }
   ],
   "source": [
    "1, 2, 3"
   ]
  },
  {
   "cell_type": "markdown",
   "id": "6bc184bf",
   "metadata": {},
   "source": [
    "when should you use tuples?"
   ]
  },
  {
   "cell_type": "markdown",
   "id": "8797a52d",
   "metadata": {},
   "source": [
    "# Dictonaries"
   ]
  },
  {
   "cell_type": "markdown",
   "id": "7c8777ce",
   "metadata": {},
   "source": [
    "## {Key: Value}\n",
    "\n",
    "Until now we've seen collections of ordered elements (indexed with numbers)\n",
    "\n",
    "Next, we study dictionaries which use \"keys\" to index their elements\n",
    "\n",
    "The syntax is:\n",
    "```python\n",
    "{key_1: value_1,\n",
    " key_2: value_2,\n",
    " ...\n",
    " key_n: value_n}\n",
    "```"
   ]
  },
  {
   "cell_type": "code",
   "execution_count": 87,
   "id": "9d2e830b",
   "metadata": {},
   "outputs": [
    {
     "name": "stdout",
     "output_type": "stream",
     "text": [
      "{'Alvaro': [23, 'Engineering', 'DPhil'], 'Pat': [25, 'Mathematics', 'DPhil'], 'Fay': [32, 'Mathematics', 'Postdoc'], 'Gerardo': [29, 'Statistics', 'PhD']}\n"
     ]
    }
   ],
   "source": [
    "students = {\n",
    "    \"Alvaro\":    [23, \"Engineering\", \"DPhil\"],\n",
    "    \"Pat\": [25, \"Mathematics\", \"DPhil\"],\n",
    "    \"Fay\": [32, \"Mathematics\", \"Postdoc\"],\n",
    "    \"Gerardo\": [29, \"Statistics\", \"PhD\"]\n",
    "}\n",
    "print(students)"
   ]
  },
  {
   "cell_type": "code",
   "execution_count": 88,
   "id": "5270d96d",
   "metadata": {},
   "outputs": [
    {
     "name": "stdout",
     "output_type": "stream",
     "text": [
      "[29, 'Statistics', 'PhD']\n"
     ]
    }
   ],
   "source": [
    "print(students['Gerardo'])"
   ]
  },
  {
   "cell_type": "code",
   "execution_count": 89,
   "id": "5c44c77a",
   "metadata": {},
   "outputs": [],
   "source": [
    "del students[\"Gerardo\"]"
   ]
  },
  {
   "cell_type": "code",
   "execution_count": 91,
   "id": "658d1356",
   "metadata": {},
   "outputs": [
    {
     "data": {
      "text/plain": [
       "{'Alvaro': [23, 'Engineering', 'DPhil'],\n",
       " 'Pat': [25, 'Mathematics', 'DPhil'],\n",
       " 'Fay': [32, 'Mathematics', 'Postdoc']}"
      ]
     },
     "execution_count": 91,
     "metadata": {},
     "output_type": "execute_result"
    }
   ],
   "source": [
    "students"
   ]
  },
  {
   "cell_type": "markdown",
   "id": "c7016ae4",
   "metadata": {},
   "source": [
    "#### A key can be any hashable object"
   ]
  },
  {
   "cell_type": "code",
   "execution_count": 99,
   "id": "e9beca2f",
   "metadata": {},
   "outputs": [
    {
     "name": "stdout",
     "output_type": "stream",
     "text": [
      "Help on built-in function hash in module builtins:\n",
      "\n",
      "hash(obj, /)\n",
      "    Return the hash value for the given object.\n",
      "    \n",
      "    Two objects that compare equal must also have the same hash value, but the\n",
      "    reverse is not necessarily true.\n",
      "\n"
     ]
    }
   ],
   "source": [
    "help(hash)"
   ]
  },
  {
   "cell_type": "code",
   "execution_count": 96,
   "id": "2e74b74c",
   "metadata": {},
   "outputs": [
    {
     "data": {
      "text/plain": [
       "{'Alvaro': [23, 'Engineering', 'DPhil'],\n",
       " 'Pat': [25, 'Mathematics', 'DPhil'],\n",
       " 'Fay': [32, 'Mathematics', 'Postdoc'],\n",
       " (1, 2): 1,\n",
       " 23: 1,\n",
       " (23,): 1}"
      ]
     },
     "execution_count": 96,
     "metadata": {},
     "output_type": "execute_result"
    }
   ],
   "source": [
    "students[(1,2)] = 1\n",
    "students[23] = 1\n",
    "students[(23,)] = 1\n",
    "students"
   ]
  },
  {
   "cell_type": "code",
   "execution_count": 98,
   "id": "2a255d8c",
   "metadata": {},
   "outputs": [
    {
     "ename": "TypeError",
     "evalue": "unhashable type: 'list'",
     "output_type": "error",
     "traceback": [
      "\u001b[0;31m---------------------------------------------------------------------------\u001b[0m",
      "\u001b[0;31mTypeError\u001b[0m                                 Traceback (most recent call last)",
      "Cell \u001b[0;32mIn[98], line 1\u001b[0m\n\u001b[0;32m----> 1\u001b[0m students[[\u001b[38;5;241m23\u001b[39m,\u001b[38;5;241m2\u001b[39m]] \u001b[38;5;241m=\u001b[39m \u001b[38;5;241m1\u001b[39m\n",
      "\u001b[0;31mTypeError\u001b[0m: unhashable type: 'list'"
     ]
    }
   ],
   "source": [
    "students[[23,2]] = 1"
   ]
  },
  {
   "cell_type": "markdown",
   "id": "366896f1",
   "metadata": {},
   "source": [
    "#### Fancier dictionaries"
   ]
  },
  {
   "cell_type": "code",
   "execution_count": 100,
   "id": "d7091235",
   "metadata": {},
   "outputs": [],
   "source": [
    "students = {\n",
    "    \"Alvaro\":   {\n",
    "        \"age\": 23,\n",
    "        \"department\": \"Engineering\",\n",
    "        \"degree\" : \"DPhil\"\n",
    "    },\n",
    "    \"Pat\": {\n",
    "        \"age\": 25,\n",
    "        \"department\": \"Mathematics\",\n",
    "        \"degree\" : \"DPhil\"\n",
    "    },\n",
    "    \"Fay\": {\n",
    "        \"age\": 32,\n",
    "        \"department\": \"Engineering\",\n",
    "        \"degree\" : \"Postdoc\"\n",
    "    },\n",
    "    \"Gerardo\": {\n",
    "        \"age\": 29,\n",
    "        \"department\": \"Statistics\",\n",
    "        \"degree\" : \"PhD\"\n",
    "    }\n",
    "}"
   ]
  },
  {
   "cell_type": "code",
   "execution_count": 102,
   "id": "35865419",
   "metadata": {},
   "outputs": [
    {
     "data": {
      "text/plain": [
       "'Statistics'"
      ]
     },
     "execution_count": 102,
     "metadata": {},
     "output_type": "execute_result"
    }
   ],
   "source": [
    "students[\"Gerardo\"][\"department\"]"
   ]
  },
  {
   "cell_type": "markdown",
   "id": "5169b181",
   "metadata": {},
   "source": [
    "# {Sets}\n",
    "\n",
    "A `set` is a collection of unordered unique values. We have the following operations\n",
    "\n",
    "* `A & B` (Intersection)\n",
    "* `A | B` (Union)\n",
    "* `A - B` (Difference)\n",
    "* `A ^ B` (Symmetric difference) complement of A intersected with B\n",
    "* `A <= B` (Subset) Checks if `A` is subset of `B`\n",
    "* `A >= B` "
   ]
  },
  {
   "cell_type": "markdown",
   "id": "21e35502",
   "metadata": {},
   "source": [
    "# Booleans"
   ]
  },
  {
   "cell_type": "markdown",
   "id": "f028bfc2",
   "metadata": {},
   "source": [
    "Similar to `int`s and `float`s, bools have operators:\n",
    "\n",
    "* `==`\n",
    "* `!=`\n",
    "* `not`\n",
    "* `and`\n",
    "* `or`"
   ]
  },
  {
   "cell_type": "code",
   "execution_count": null,
   "id": "d8afb837",
   "metadata": {},
   "outputs": [],
   "source": []
  }
 ],
 "metadata": {
  "kernelspec": {
   "display_name": "Python 3 (ipykernel)",
   "language": "python",
   "name": "python3"
  },
  "language_info": {
   "codemirror_mode": {
    "name": "ipython",
    "version": 3
   },
   "file_extension": ".py",
   "mimetype": "text/x-python",
   "name": "python",
   "nbconvert_exporter": "python",
   "pygments_lexer": "ipython3",
   "version": "3.10.9"
  }
 },
 "nbformat": 4,
 "nbformat_minor": 5
}
