{
 "cells": [
  {
   "cell_type": "markdown",
   "id": "186671d9",
   "metadata": {},
   "source": [
    "# WELCOME TO PYTHON"
   ]
  },
  {
   "cell_type": "markdown",
   "id": "e4883b72",
   "metadata": {},
   "source": [
    "```\n",
    "This will be a (brief) introduction to Python using Jupyter notebooks.\n",
    "Roughly, we are going to cover the following material:\n",
    "\n",
    "1) Strings, int, float, dict, lists, sets\n",
    "2) functions\n",
    "3) numpy\n",
    "4) matplotlib\n",
    "```"
   ]
  },
  {
   "cell_type": "markdown",
   "id": "4c9abbb5",
   "metadata": {},
   "source": [
    "```\n",
    "The above is far from comprehensive but covers all of the essentials needed for the course.\n",
    "```"
   ]
  },
  {
   "cell_type": "markdown",
   "id": "45fd607d",
   "metadata": {},
   "source": [
    "## Let's start with 'str'"
   ]
  },
  {
   "cell_type": "markdown",
   "id": "17f8547d",
   "metadata": {},
   "source": [
    "Strings are used quite frequently within Python. To create a string just have text between \" \" or ' ', for example:"
   ]
  },
  {
   "cell_type": "code",
   "execution_count": 2,
   "id": "13c39028",
   "metadata": {},
   "outputs": [
    {
     "data": {
      "text/plain": [
       "str"
      ]
     },
     "execution_count": 2,
     "metadata": {},
     "output_type": "execute_result"
    }
   ],
   "source": [
    "type(\"this is a 'string'\")"
   ]
  },
  {
   "cell_type": "code",
   "execution_count": 3,
   "id": "ac68bb56",
   "metadata": {},
   "outputs": [
    {
     "name": "stdout",
     "output_type": "stream",
     "text": [
      "this is a 'string'\n"
     ]
    }
   ],
   "source": [
    "print(\"this is a 'string'\")"
   ]
  },
  {
   "cell_type": "markdown",
   "id": "e88419f3",
   "metadata": {},
   "source": [
    "Use \\n to add new lines within a string, for example"
   ]
  },
  {
   "cell_type": "code",
   "execution_count": 10,
   "id": "a5ba0f6c",
   "metadata": {},
   "outputs": [
    {
     "name": "stdout",
     "output_type": "stream",
     "text": [
      "Python is the present\n",
      "Jax is the future\n"
     ]
    }
   ],
   "source": [
    "print('Python is the present\\nJax is the future')"
   ]
  },
  {
   "cell_type": "markdown",
   "id": "326f9c6d",
   "metadata": {},
   "source": [
    "Each object in python has methods. Strings are not the exception.\n",
    "\n",
    "Feel free to try these later: \n",
    "```python\n",
    ".title() \n",
    "\n",
    ".upper() \n",
    "\n",
    ".strip()\n",
    "```\n",
    "\n",
    "Other useful methods are \n",
    "\n",
    "```python\n",
    "\"The Importance of Being Earnest\".find(\"Importance\")\n",
    "\n",
    "\"The roeman empire\".replace(\"roeman\", \"roman\")\n",
    "```"
   ]
  },
  {
   "cell_type": "markdown",
   "id": "c3a5e99a",
   "metadata": {},
   "source": [
    "Accessing parts of the string (this will also be relevant later)"
   ]
  },
  {
   "cell_type": "markdown",
   "id": "40fa4a45",
   "metadata": {},
   "source": [
    "Python puede contar de izquierda a derecha (empezando con 0) y de derecha a izquierda (empezando con -1)\n",
    "```c\n",
    " P   Y   T   H   O   N\n",
    " 0   1   2   3   4   5\n",
    "-6  -5  -4  -3  -2  -1\n",
    "```"
   ]
  },
  {
   "cell_type": "markdown",
   "id": "58e0e39d",
   "metadata": {},
   "source": [
    "What will the following operations produce?\n",
    "\n",
    "```python\n",
    "\"Leandro\"[-1]\n",
    "\"Gerardo\"[1]\n",
    "\"ML\"[0]\n",
    "```"
   ]
  },
  {
   "cell_type": "markdown",
   "id": "dbaae8a2",
   "metadata": {},
   "source": [
    "Sometimes you need more than just one element. Slicing works as follows:"
   ]
  },
  {
   "cell_type": "code",
   "execution_count": 16,
   "id": "1e0ebc4c",
   "metadata": {},
   "outputs": [
    {
     "data": {
      "text/plain": [
       "'lic'"
      ]
     },
     "execution_count": 16,
     "metadata": {},
     "output_type": "execute_result"
    }
   ],
   "source": [
    "ini = 1\n",
    "fin = 4\n",
    "\"slicing\"[ini:fin]"
   ]
  },
  {
   "cell_type": "markdown",
   "id": "5ce5120c",
   "metadata": {},
   "source": [
    "## Next, we study 'int' and 'float'"
   ]
  },
  {
   "cell_type": "code",
   "execution_count": 17,
   "id": "a67a7747",
   "metadata": {},
   "outputs": [
    {
     "data": {
      "text/plain": [
       "int"
      ]
     },
     "execution_count": 17,
     "metadata": {},
     "output_type": "execute_result"
    }
   ],
   "source": [
    "type(4)"
   ]
  },
  {
   "cell_type": "code",
   "execution_count": 18,
   "id": "f60e0cb8",
   "metadata": {},
   "outputs": [
    {
     "data": {
      "text/plain": [
       "float"
      ]
     },
     "execution_count": 18,
     "metadata": {},
     "output_type": "execute_result"
    }
   ],
   "source": [
    "type(4.)"
   ]
  },
  {
   "cell_type": "markdown",
   "id": "4deae7e2",
   "metadata": {},
   "source": [
    "#### Operations"
   ]
  },
  {
   "cell_type": "markdown",
   "id": "186135c8",
   "metadata": {},
   "source": [
    "```python\n",
    "5 + 4\n",
    "5 - 4\n",
    "5 * 4\n",
    "5 / 4\n",
    "5 // 4 \n",
    "5 ** 4\n",
    "5 % 2\n",
    "```"
   ]
  },
  {
   "cell_type": "markdown",
   "id": "3dec60dd",
   "metadata": {},
   "source": [
    "#### Numerical functions"
   ]
  },
  {
   "cell_type": "markdown",
   "id": "1323f57b",
   "metadata": {},
   "source": [
    "```python\n",
    "round(3.141592653589793, 3)\n",
    "max(-3, 1, 9, 4.9)\n",
    "min(-3, 1)\n",
    "complex(1, 2)\n",
    "bin(10)\n",
    "format(1e10, \",.2f\")\n",
    "format(0.7645, \".2%\")\n",
    "float(\"3.9999\")\n",
    "int(\"10\")\n",
    "```"
   ]
  },
  {
   "cell_type": "code",
   "execution_count": 26,
   "id": "0a6a991f",
   "metadata": {},
   "outputs": [
    {
     "data": {
      "text/plain": [
       "'10,000,000,000.00'"
      ]
     },
     "execution_count": 26,
     "metadata": {},
     "output_type": "execute_result"
    }
   ],
   "source": [
    "format(1e10, \",.2f\")"
   ]
  },
  {
   "cell_type": "code",
   "execution_count": 27,
   "id": "8f730253",
   "metadata": {},
   "outputs": [
    {
     "data": {
      "text/plain": [
       "'76.45%'"
      ]
     },
     "execution_count": 27,
     "metadata": {},
     "output_type": "execute_result"
    }
   ],
   "source": [
    "format(0.7645, \".2%\")"
   ]
  },
  {
   "cell_type": "markdown",
   "id": "a28b73a6",
   "metadata": {},
   "source": [
    "# Variables"
   ]
  },
  {
   "cell_type": "markdown",
   "id": "2d152d40",
   "metadata": {},
   "source": [
    "A variable is the direction to a place in memory where an object lives. They are used as follows:\n",
    "\n",
    "```c\n",
    "nombre_variable = <objeto>\n",
    "```\n",
    "\n",
    "Rules:\n",
    "\n",
    "1) Variables can contain numbers, letters and underscores\n",
    "2) Variables cannot start with a number\n",
    "3) Variables distinguish between uppercase and lowercase"
   ]
  },
  {
   "cell_type": "code",
   "execution_count": 45,
   "id": "ea6872b3",
   "metadata": {},
   "outputs": [
    {
     "name": "stdout",
     "output_type": "stream",
     "text": [
      "Leandro Sanchez-Betancourt\n"
     ]
    }
   ],
   "source": [
    "name = \"Leandro\"\n",
    "last_name = \"Sanchez-Betancourt\"\n",
    "affiliation = \"OMI\"\n",
    "print(name, last_name)"
   ]
  },
  {
   "cell_type": "code",
   "execution_count": 46,
   "id": "fe76aaff",
   "metadata": {},
   "outputs": [
    {
     "name": "stdout",
     "output_type": "stream",
     "text": [
      "Leandro...Sanchez-Betancourt...OMI\n"
     ]
    }
   ],
   "source": [
    "print(name, last_name, sep=\"...\", end=\"...\") ## By default end = \"\\n\" another useful value is \"\\t\" to use tab space\n",
    "print(affiliation)"
   ]
  },
  {
   "cell_type": "code",
   "execution_count": 48,
   "id": "a530623a",
   "metadata": {},
   "outputs": [
    {
     "name": "stdout",
     "output_type": "stream",
     "text": [
      "Welcome Leandro Sanchez-Betancourt from OMI\n"
     ]
    }
   ],
   "source": [
    "print(\"Welcome {} {} from {}\".format(name, last_name, affiliation))"
   ]
  },
  {
   "cell_type": "code",
   "execution_count": 49,
   "id": "187a4b4b",
   "metadata": {},
   "outputs": [
    {
     "name": "stdout",
     "output_type": "stream",
     "text": [
      "Welcome Leandro Sanchez-Betancourt from OMI\n"
     ]
    }
   ],
   "source": [
    "print(f\"Welcome {name} {last_name} from {affiliation}\")"
   ]
  },
  {
   "cell_type": "code",
   "execution_count": 50,
   "id": "07ebe410",
   "metadata": {},
   "outputs": [
    {
     "name": "stdout",
     "output_type": "stream",
     "text": [
      "2 + 5 = 7\n"
     ]
    }
   ],
   "source": [
    "# An f-string can evaluate any expression within the keys {}\n",
    "num1 = 2\n",
    "num2 = 5\n",
    "print(f\"{num1} + {num2} = {num1 + num2}\")"
   ]
  },
  {
   "cell_type": "markdown",
   "id": "7811de1d",
   "metadata": {},
   "source": [
    "# Lists\n",
    "#### [mutable]"
   ]
  },
  {
   "cell_type": "markdown",
   "id": "6d7cc791",
   "metadata": {},
   "source": [
    "A list is defined by separating elements with commas and using square brackets"
   ]
  },
  {
   "cell_type": "code",
   "execution_count": 51,
   "id": "df4acb8c",
   "metadata": {},
   "outputs": [],
   "source": [
    "x = [1, 2, 3]"
   ]
  },
  {
   "cell_type": "code",
   "execution_count": 56,
   "id": "b6eaeecc",
   "metadata": {},
   "outputs": [],
   "source": [
    "y = [[1,2,3],3,[[2,3],[5,2]]]"
   ]
  },
  {
   "cell_type": "code",
   "execution_count": 57,
   "id": "8ba6db14",
   "metadata": {},
   "outputs": [
    {
     "name": "stdout",
     "output_type": "stream",
     "text": [
      "Number of elements of x is 3 and number of elements in y is 3\n"
     ]
    }
   ],
   "source": [
    "print(f'Number of elements of x is {len(x)} and number of elements in y is {len(y)}')"
   ]
  },
  {
   "cell_type": "code",
   "execution_count": 63,
   "id": "58a4da6e",
   "metadata": {},
   "outputs": [
    {
     "data": {
      "text/plain": [
       "1"
      ]
     },
     "execution_count": 63,
     "metadata": {},
     "output_type": "execute_result"
    }
   ],
   "source": [
    "x[0]"
   ]
  },
  {
   "cell_type": "code",
   "execution_count": 65,
   "id": "07bc5fea",
   "metadata": {},
   "outputs": [
    {
     "data": {
      "text/plain": [
       "[1, 2, 3]"
      ]
     },
     "execution_count": 65,
     "metadata": {},
     "output_type": "execute_result"
    }
   ],
   "source": [
    "y[0]"
   ]
  },
  {
   "cell_type": "code",
   "execution_count": 66,
   "id": "9bff3c2e",
   "metadata": {},
   "outputs": [
    {
     "data": {
      "text/plain": [
       "2"
      ]
     },
     "execution_count": 66,
     "metadata": {},
     "output_type": "execute_result"
    }
   ],
   "source": [
    "y[0][1]"
   ]
  },
  {
   "cell_type": "code",
   "execution_count": 68,
   "id": "2ce5c3f1",
   "metadata": {},
   "outputs": [
    {
     "name": "stdout",
     "output_type": "stream",
     "text": [
      "['ALGEBRA', 'GEOMETRY', 'PROGRAMMING', 'STATISTICS']\n"
     ]
    }
   ],
   "source": [
    "# You can delete elements of a list using del\n",
    "lectures = [\"ALGEBRA\", \"FINANCE\", \"OPTIMISATION\", \"GEOMETRY\", \"PROGRAMMING\", \"STATISTICS\"]\n",
    "del lectures[1:3]\n",
    "print(lectures)"
   ]
  },
  {
   "cell_type": "markdown",
   "id": "8711c397",
   "metadata": {},
   "source": [
    "```c\n",
    "Objects such as 1:3 work within [ ] to access a range of values but to define the object itself we need to use slice() as follows\n",
    "```"
   ]
  },
  {
   "cell_type": "code",
   "execution_count": 72,
   "id": "0bb59cd2",
   "metadata": {},
   "outputs": [
    {
     "data": {
      "text/plain": [
       "['GEOMETRY', 'PROGRAMMING']"
      ]
     },
     "execution_count": 72,
     "metadata": {},
     "output_type": "execute_result"
    }
   ],
   "source": [
    "idx = slice(1,3)\n",
    "lectures[idx]"
   ]
  },
  {
   "cell_type": "markdown",
   "id": "dd6c5555",
   "metadata": {},
   "source": [
    "#### Concatenate two lists"
   ]
  },
  {
   "cell_type": "code",
   "execution_count": 74,
   "id": "bbb90ae4",
   "metadata": {},
   "outputs": [
    {
     "data": {
      "text/plain": [
       "['Gauss', 'Fermat', 'Spivak ', 'Oksendal', 'Newton', 'Einstein', 'Maxwell']"
      ]
     },
     "execution_count": 74,
     "metadata": {},
     "output_type": "execute_result"
    }
   ],
   "source": [
    "mathematicians = [\"Gauss\", \"Fermat\", \"Spivak \", \"Oksendal\"]\n",
    "physicists = [\"Newton\", \"Einstein\", \"Maxwell\"]\n",
    "\n",
    "alwhlrawnlfkwafla = mathematicians + physicists\n",
    "alwhlrawnlfkwafla"
   ]
  },
  {
   "cell_type": "code",
   "execution_count": 77,
   "id": "b9888cf6",
   "metadata": {},
   "outputs": [
    {
     "data": {
      "text/plain": [
       "['Gauss', 'Fermat', 'Spivak ', 'Oksendal', 1, 2, 3]"
      ]
     },
     "execution_count": 77,
     "metadata": {},
     "output_type": "execute_result"
    }
   ],
   "source": [
    "mathematicians = [\"Gauss\", \"Fermat\", \"Spivak \", \"Oksendal\"]\n",
    "numbers = [1,2,3]\n",
    "\n",
    "mathematicians + physicists"
   ]
  },
  {
   "cell_type": "markdown",
   "id": "c5be80e5",
   "metadata": {},
   "source": [
    "# Tuples\n",
    "#### (inmutable)"
   ]
  },
  {
   "cell_type": "code",
   "execution_count": 81,
   "id": "895045f0",
   "metadata": {},
   "outputs": [
    {
     "data": {
      "text/plain": [
       "tuple"
      ]
     },
     "execution_count": 81,
     "metadata": {},
     "output_type": "execute_result"
    }
   ],
   "source": [
    "#Tuples are defined using ()\n",
    "lectures = (\"ALGEBRA\", \"FINANCE\", \"OPTIMISATION\", \"GEOMETRY\", \"PROGRAMMING\", \"STATISTICS\")\n",
    "type(lectures)"
   ]
  },
  {
   "cell_type": "code",
   "execution_count": 85,
   "id": "a235849b",
   "metadata": {},
   "outputs": [
    {
     "data": {
      "text/plain": [
       "(1, 2, 3)"
      ]
     },
     "execution_count": 85,
     "metadata": {},
     "output_type": "execute_result"
    }
   ],
   "source": [
    "1, 2, 3"
   ]
  },
  {
   "cell_type": "markdown",
   "id": "6bc184bf",
   "metadata": {},
   "source": [
    "when should you use tuples?"
   ]
  },
  {
   "cell_type": "markdown",
   "id": "8797a52d",
   "metadata": {},
   "source": [
    "# Dictonaries"
   ]
  },
  {
   "cell_type": "markdown",
   "id": "7c8777ce",
   "metadata": {},
   "source": [
    "## {Key: Value}\n",
    "\n",
    "Until now we've seen collections of ordered elements (indexed with numbers)\n",
    "\n",
    "Next, we study dictionaries which use \"keys\" to index their elements\n",
    "\n",
    "The syntax is:\n",
    "```python\n",
    "{key_1: value_1,\n",
    " key_2: value_2,\n",
    " ...\n",
    " key_n: value_n}\n",
    "```"
   ]
  },
  {
   "cell_type": "code",
   "execution_count": 87,
   "id": "9d2e830b",
   "metadata": {},
   "outputs": [
    {
     "name": "stdout",
     "output_type": "stream",
     "text": [
      "{'Alvaro': [23, 'Engineering', 'DPhil'], 'Pat': [25, 'Mathematics', 'DPhil'], 'Fay': [32, 'Mathematics', 'Postdoc'], 'Gerardo': [29, 'Statistics', 'PhD']}\n"
     ]
    }
   ],
   "source": [
    "students = {\n",
    "    \"Alvaro\":    [23, \"Engineering\", \"DPhil\"],\n",
    "    \"Pat\": [25, \"Mathematics\", \"DPhil\"],\n",
    "    \"Fay\": [32, \"Mathematics\", \"Postdoc\"],\n",
    "    \"Gerardo\": [29, \"Statistics\", \"PhD\"]\n",
    "}\n",
    "print(students)"
   ]
  },
  {
   "cell_type": "code",
   "execution_count": 88,
   "id": "5270d96d",
   "metadata": {},
   "outputs": [
    {
     "name": "stdout",
     "output_type": "stream",
     "text": [
      "[29, 'Statistics', 'PhD']\n"
     ]
    }
   ],
   "source": [
    "print(students['Gerardo'])"
   ]
  },
  {
   "cell_type": "code",
   "execution_count": 89,
   "id": "5c44c77a",
   "metadata": {},
   "outputs": [],
   "source": [
    "del students[\"Gerardo\"]"
   ]
  },
  {
   "cell_type": "code",
   "execution_count": 91,
   "id": "658d1356",
   "metadata": {},
   "outputs": [
    {
     "data": {
      "text/plain": [
       "{'Alvaro': [23, 'Engineering', 'DPhil'],\n",
       " 'Pat': [25, 'Mathematics', 'DPhil'],\n",
       " 'Fay': [32, 'Mathematics', 'Postdoc']}"
      ]
     },
     "execution_count": 91,
     "metadata": {},
     "output_type": "execute_result"
    }
   ],
   "source": [
    "students"
   ]
  },
  {
   "cell_type": "markdown",
   "id": "c7016ae4",
   "metadata": {},
   "source": [
    "#### A key can be any hashable object"
   ]
  },
  {
   "cell_type": "code",
   "execution_count": 99,
   "id": "e9beca2f",
   "metadata": {},
   "outputs": [
    {
     "name": "stdout",
     "output_type": "stream",
     "text": [
      "Help on built-in function hash in module builtins:\n",
      "\n",
      "hash(obj, /)\n",
      "    Return the hash value for the given object.\n",
      "    \n",
      "    Two objects that compare equal must also have the same hash value, but the\n",
      "    reverse is not necessarily true.\n",
      "\n"
     ]
    }
   ],
   "source": [
    "help(hash)"
   ]
  },
  {
   "cell_type": "code",
   "execution_count": 96,
   "id": "2e74b74c",
   "metadata": {},
   "outputs": [
    {
     "data": {
      "text/plain": [
       "{'Alvaro': [23, 'Engineering', 'DPhil'],\n",
       " 'Pat': [25, 'Mathematics', 'DPhil'],\n",
       " 'Fay': [32, 'Mathematics', 'Postdoc'],\n",
       " (1, 2): 1,\n",
       " 23: 1,\n",
       " (23,): 1}"
      ]
     },
     "execution_count": 96,
     "metadata": {},
     "output_type": "execute_result"
    }
   ],
   "source": [
    "students[(1,2)] = 1\n",
    "students[23] = 1\n",
    "students[(23,)] = 1\n",
    "students"
   ]
  },
  {
   "cell_type": "code",
   "execution_count": 98,
   "id": "2a255d8c",
   "metadata": {},
   "outputs": [
    {
     "ename": "TypeError",
     "evalue": "unhashable type: 'list'",
     "output_type": "error",
     "traceback": [
      "\u001b[0;31m---------------------------------------------------------------------------\u001b[0m",
      "\u001b[0;31mTypeError\u001b[0m                                 Traceback (most recent call last)",
      "Cell \u001b[0;32mIn[98], line 1\u001b[0m\n\u001b[0;32m----> 1\u001b[0m students[[\u001b[38;5;241m23\u001b[39m,\u001b[38;5;241m2\u001b[39m]] \u001b[38;5;241m=\u001b[39m \u001b[38;5;241m1\u001b[39m\n",
      "\u001b[0;31mTypeError\u001b[0m: unhashable type: 'list'"
     ]
    }
   ],
   "source": [
    "students[[23,2]] = 1"
   ]
  },
  {
   "cell_type": "markdown",
   "id": "366896f1",
   "metadata": {},
   "source": [
    "#### Fancier dictionaries"
   ]
  },
  {
   "cell_type": "code",
   "execution_count": 100,
   "id": "d7091235",
   "metadata": {},
   "outputs": [],
   "source": [
    "students = {\n",
    "    \"Alvaro\":   {\n",
    "        \"age\": 23,\n",
    "        \"department\": \"Engineering\",\n",
    "        \"degree\" : \"DPhil\"\n",
    "    },\n",
    "    \"Pat\": {\n",
    "        \"age\": 25,\n",
    "        \"department\": \"Mathematics\",\n",
    "        \"degree\" : \"DPhil\"\n",
    "    },\n",
    "    \"Fay\": {\n",
    "        \"age\": 32,\n",
    "        \"department\": \"Engineering\",\n",
    "        \"degree\" : \"Postdoc\"\n",
    "    },\n",
    "    \"Gerardo\": {\n",
    "        \"age\": 29,\n",
    "        \"department\": \"Statistics\",\n",
    "        \"degree\" : \"PhD\"\n",
    "    }\n",
    "}"
   ]
  },
  {
   "cell_type": "code",
   "execution_count": 102,
   "id": "35865419",
   "metadata": {},
   "outputs": [
    {
     "data": {
      "text/plain": [
       "'Statistics'"
      ]
     },
     "execution_count": 102,
     "metadata": {},
     "output_type": "execute_result"
    }
   ],
   "source": [
    "students[\"Gerardo\"][\"department\"]"
   ]
  },
  {
   "cell_type": "markdown",
   "id": "5169b181",
   "metadata": {},
   "source": [
    "# {Sets}\n",
    "\n",
    "A `set` is a collection of unordered unique values. We have the following operations\n",
    "\n",
    "* `A & B` (Intersection)\n",
    "* `A | B` (Union)\n",
    "* `A - B` (Difference)\n",
    "* `A ^ B` (Symmetric difference) complement of A intersected with B\n",
    "* `A <= B` (Subset) Checks if `A` is subset of `B`\n",
    "* `A >= B` "
   ]
  },
  {
   "cell_type": "markdown",
   "id": "21e35502",
   "metadata": {},
   "source": [
    "# Booleans"
   ]
  },
  {
   "cell_type": "markdown",
   "id": "f028bfc2",
   "metadata": {},
   "source": [
    "Similar to `int`s and `float`s, bools have operators:\n",
    "\n",
    "* `==`\n",
    "* `!=`\n",
    "* `not`\n",
    "* `and`\n",
    "* `or`"
   ]
  },
  {
   "cell_type": "markdown",
   "id": "e5b3dc79",
   "metadata": {},
   "source": [
    "# Loops"
   ]
  },
  {
   "cell_type": "markdown",
   "id": "0c2ccd91",
   "metadata": {},
   "source": [
    "```\n",
    "Loops are a great way to perform similar calculations multiple times. \n",
    "\n",
    "Consider the following problem: \n",
    "For each radius in the list of radii (that's the plural of radius) [1,2,5,7,10,15] we wish to print the area of a cicle with such a radius. \n",
    "```"
   ]
  },
  {
   "cell_type": "code",
   "execution_count": 5,
   "id": "b1557c63",
   "metadata": {},
   "outputs": [],
   "source": [
    "import math"
   ]
  },
  {
   "cell_type": "code",
   "execution_count": 16,
   "id": "2ebb3ed3",
   "metadata": {},
   "outputs": [
    {
     "name": "stdout",
     "output_type": "stream",
     "text": [
      "Area of circle with radius 1 is 3.14\n",
      "Area of circle with radius 2 is 12.57\n",
      "Area of circle with radius 5 is 78.54\n",
      "Area of circle with radius 7 is 153.94\n",
      "Area of circle with radius 10 is 314.16\n",
      "Area of circle with radius 15 is 706.86\n"
     ]
    }
   ],
   "source": [
    "r = [1,2,5,7,10,15]\n",
    "for x in r:\n",
    "    print(f'Area of circle with radius {x} is {math.pi*x**2 :.2f}') "
   ]
  },
  {
   "cell_type": "markdown",
   "id": "f19a2a06",
   "metadata": {},
   "source": [
    "## `For` loops\n",
    "We use a `for` loop when **we know exactly** the number of times we wish to perform an iteration.\n",
    "\n",
    "The sintax for a *for loop* in Python is\n",
    "\n",
    "```python\n",
    "for varval in iterable:\n",
    "    ...\n",
    "```\n",
    "\n",
    "* `iterable` is anything that has an index (list, dictionary, string)\n",
    "* `varval` variable taking values on each of the elements that are `iterable`\n",
    "* Block of code (tab spacing) after `for` repeats for each `varval` in `iterable`\n"
   ]
  },
  {
   "cell_type": "code",
   "execution_count": 17,
   "id": "e32cc442",
   "metadata": {},
   "outputs": [
    {
     "name": "stdout",
     "output_type": "stream",
     "text": [
      "B\n",
      "e\n",
      "s\n",
      "e\n",
      "e\n",
      "c\n",
      "h\n",
      "i\n",
      "n\n",
      "g\n",
      "l\n",
      "y\n"
     ]
    }
   ],
   "source": [
    "word = \"Beseechingly\"\n",
    "for letter in word:\n",
    "    print(letter)"
   ]
  },
  {
   "cell_type": "markdown",
   "id": "6a92c66e",
   "metadata": {},
   "source": [
    "**Range**  \n",
    "To create an iterable of numbers we use the function `range`, which can be used in three ways:\n",
    "* `range(a)` creates a range of values from  `0` until `a-1`\n",
    "* `range(a, b)` creates a range of values from `a` until `b-1`\n",
    "* `range(a, b, s)` creates a range of values from  `a` until `b-1` skipping `s`"
   ]
  },
  {
   "cell_type": "markdown",
   "id": "19b34d61",
   "metadata": {},
   "source": [
    "## `while` loops\n",
    "Unlike the `for` loop, a `while` loop **does not necessarily know the number of times the loop will iterate**. The sintax of a `while` loop is as follows.\n",
    "\n",
    "```python\n",
    "while condition:\n",
    "    ...\n",
    "```\n",
    "\n",
    "* `condition` is a boolean which is evaluated at the start of each cicle. If `condition == True`, the block will be evaluated, otherwise the cicle stops.\n",
    "\n",
    "A while loop repeats as long as `condition` is `True`"
   ]
  },
  {
   "cell_type": "code",
   "execution_count": 20,
   "id": "9cc8b21e",
   "metadata": {},
   "outputs": [
    {
     "name": "stdout",
     "output_type": "stream",
     "text": [
      "1 2 3 4 5 6 7 8 9 10 "
     ]
    }
   ],
   "source": [
    "x = 1\n",
    "while x <= 10:\n",
    "    print(x, end=\" \")\n",
    "    x = x + 1"
   ]
  },
  {
   "cell_type": "markdown",
   "id": "f6419481",
   "metadata": {},
   "source": [
    "**The `break` keyword**  \n",
    "We use `break` to end a loop prematurely. For example:"
   ]
  },
  {
   "cell_type": "code",
   "execution_count": 21,
   "id": "09959a09",
   "metadata": {},
   "outputs": [
    {
     "name": "stdout",
     "output_type": "stream",
     "text": [
      "Insert your favourite meals. Type 'end' to end the program\n",
      "Meal: Paella\n",
      "Meal: Duck confit\n",
      "Meal: end\n",
      "Thank you for your input.\n",
      "['Paella', 'Duck confit']\n"
     ]
    }
   ],
   "source": [
    "meals = []\n",
    "print(\"Insert your favourite meals. Type 'end' to end the program\")\n",
    "while True: # Condition will always be true\n",
    "    meal = input(\"Meal: \")\n",
    "    if meal != \"end\":\n",
    "        meals.append(meal)\n",
    "    else:\n",
    "        print(\"Thank you for your input.\")\n",
    "        break\n",
    "print(meals)        "
   ]
  },
  {
   "cell_type": "markdown",
   "id": "edfbd42d",
   "metadata": {},
   "source": [
    "## Grouping elements with `zip`\n",
    "Sometimes we need to group lists entry by entry. For this we use `zip`.\n",
    "\n",
    "`zip` returns a generator of *tuples* entry by entry. Consider the following example"
   ]
  },
  {
   "cell_type": "code",
   "execution_count": 26,
   "id": "edbcd815",
   "metadata": {},
   "outputs": [
    {
     "name": "stdout",
     "output_type": "stream",
     "text": [
      "[(32, 'Leandro', 'OMI'), (29, 'Gerardo', 'QMUL'), (33, 'Fay', 'OMI')]\n"
     ]
    }
   ],
   "source": [
    "age = [32,29,33]\n",
    "name = ['Leandro', 'Gerardo', 'Fay']\n",
    "affiliation  = ['OMI','QMUL', 'OMI']\n",
    "\n",
    "print(list(zip(age, name, affiliation)))"
   ]
  },
  {
   "cell_type": "markdown",
   "id": "a47ba436",
   "metadata": {},
   "source": [
    "```\n",
    "The following is an example closer to home:\n",
    "```"
   ]
  },
  {
   "cell_type": "code",
   "execution_count": 27,
   "id": "aeed3585",
   "metadata": {},
   "outputs": [
    {
     "name": "stdout",
     "output_type": "stream",
     "text": [
      "{'Apple': 'AAPL', 'Amazon': 'AMZN', 'Facebook': 'FB', 'Alphabet': 'GOOG'}\n"
     ]
    }
   ],
   "source": [
    "tickers = [\"AAPL\", \"AMZN\", \"FB\", \"GOOG\"]\n",
    "companies = [\"Apple\", \"Amazon\", \"Facebook\", \"Alphabet\"]\n",
    "comp_tick = {} # diccionary\n",
    "for ticker, company in zip(tickers, companies):\n",
    "    comp_tick[company] = ticker\n",
    "    \n",
    "print(comp_tick)"
   ]
  },
  {
   "cell_type": "markdown",
   "id": "8139897f",
   "metadata": {},
   "source": [
    "# Functions"
   ]
  },
  {
   "cell_type": "markdown",
   "id": "767946d7",
   "metadata": {},
   "source": [
    "```\n",
    "Functions we already know:\n",
    "```"
   ]
  },
  {
   "cell_type": "markdown",
   "id": "9a681cf9",
   "metadata": {},
   "source": [
    "```Python\n",
    "len([1, 2, 3, 4])\n",
    "sum([1, 2, 3, 4])\n",
    "print(\"f(x)\")\n",
    "pow(3, 2)\n",
    "abs(-3)\n",
    "```"
   ]
  },
  {
   "cell_type": "markdown",
   "id": "222a890c",
   "metadata": {},
   "source": [
    "We create a function in Python with the keyword `def` (*definition*) followed by the name of the function and the syntax:\n",
    "\n",
    "```python\n",
    "def nombre_funcion(param1, param2, ..., paramN):\n",
    "    <operations>\n",
    "```\n",
    "\n",
    "* `param1`, `param2` are the 'inputs' of the function. In the nomenclature of Python these are referred as parameters that once they are given values are called inputs.\n",
    "\n",
    "\n",
    "* Similar to the loops (`for`, `while`) and control flow statements (`if`, `else`, `elif`), functions are defined after the 'def' statement with a 'tab' spacing as usual."
   ]
  },
  {
   "cell_type": "code",
   "execution_count": 28,
   "id": "97ebea45",
   "metadata": {},
   "outputs": [
    {
     "name": "stdout",
     "output_type": "stream",
     "text": [
      "¡Esto es una función!\n"
     ]
    }
   ],
   "source": [
    "def function():\n",
    "    print(\"¡Esto es una función!\")\n",
    "\n",
    "function()"
   ]
  },
  {
   "cell_type": "code",
   "execution_count": 29,
   "id": "bb9f9492",
   "metadata": {},
   "outputs": [
    {
     "data": {
      "text/plain": [
       "7.3484692283495345"
      ]
     },
     "execution_count": 29,
     "metadata": {},
     "output_type": "execute_result"
    }
   ],
   "source": [
    "math.sqrt(54)"
   ]
  },
  {
   "cell_type": "code",
   "execution_count": 37,
   "id": "07911457",
   "metadata": {},
   "outputs": [],
   "source": [
    "def find_two_roots(a,b,c):\n",
    "    # Finds the root of ax^2 + bx + c = 0\n",
    "    if round(a, 10) == 0:\n",
    "        print('This is not a quadratic equation.')\n",
    "        return []\n",
    "    if b**2-4*a*c<0:\n",
    "        print('There are no real roots.')\n",
    "        return []\n",
    "    root_1 = (-b + math.sqrt(b**2 - 4*a*c))/(2*a)\n",
    "    root_2 = (-b - math.sqrt(b**2 - 4*a*c))/(2*a)\n",
    "    return root_1, root_2"
   ]
  },
  {
   "cell_type": "code",
   "execution_count": 41,
   "id": "0818bea1",
   "metadata": {},
   "outputs": [
    {
     "name": "stdout",
     "output_type": "stream",
     "text": [
      "There are no real roots.\n"
     ]
    },
    {
     "data": {
      "text/plain": [
       "[]"
      ]
     },
     "execution_count": 41,
     "metadata": {},
     "output_type": "execute_result"
    }
   ],
   "source": [
    "find_two_roots(a = 1, b = 1, c =1)"
   ]
  },
  {
   "cell_type": "markdown",
   "id": "c1c8c00b",
   "metadata": {},
   "source": [
    "<h2> Exercise </h2>\n",
    "\n",
    "Code the function ```distance_lp``` which for a given value of $p>0$ it computes the following distance between two vectors in $\\mathbb{R}^n$:\n",
    "\n",
    "$$\n",
    "d(\\mathbf{x}, \\mathbf{y}) = \\left( \\sum_{i=1}^{n} \\left(x_i - y_i \\right)^{p} \\right)^{1/p}\n",
    "$$"
   ]
  },
  {
   "cell_type": "markdown",
   "id": "12b5ddf8",
   "metadata": {},
   "source": [
    "# Libraries\n",
    "\n",
    "One of the great things about Python is the gigantic number of previously-coded functions we have access to. \n",
    "\n",
    "Suites of **functions** are usually packed within a library.\n",
    "\n",
    "When you install Python, there are a number of libraries we can use. These libraries are  in https://docs.python.org/3/py-modindex.html.\n",
    "\n",
    "To make use a library we need to import it.\n",
    "\n",
    "**There are three ways to do this:**\n",
    "```python\n",
    "import library\n",
    "from library import module\n",
    "import library as lib\n",
    "```\n",
    "\n",
    "Given an imported library, we can access their functions as follows\n",
    "\n",
    "```python\n",
    "import lib\n",
    "lib.func()\n",
    "```"
   ]
  },
  {
   "cell_type": "code",
   "execution_count": 42,
   "id": "8f8232a3",
   "metadata": {},
   "outputs": [
    {
     "data": {
      "text/plain": [
       "1.0"
      ]
     },
     "execution_count": 42,
     "metadata": {},
     "output_type": "execute_result"
    }
   ],
   "source": [
    "import math\n",
    "math.cos(0) "
   ]
  },
  {
   "cell_type": "code",
   "execution_count": 43,
   "id": "84151260",
   "metadata": {},
   "outputs": [],
   "source": [
    "from math import e, log"
   ]
  },
  {
   "cell_type": "code",
   "execution_count": 47,
   "id": "b0e23217",
   "metadata": {},
   "outputs": [
    {
     "data": {
      "text/plain": [
       "1.0"
      ]
     },
     "execution_count": 47,
     "metadata": {},
     "output_type": "execute_result"
    }
   ],
   "source": [
    "log(e)"
   ]
  },
  {
   "cell_type": "code",
   "execution_count": 48,
   "id": "9b7f4618",
   "metadata": {},
   "outputs": [
    {
     "data": {
      "text/plain": [
       "7.38905609893065"
      ]
     },
     "execution_count": 48,
     "metadata": {},
     "output_type": "execute_result"
    }
   ],
   "source": [
    "import math as m\n",
    "m.exp(2)"
   ]
  },
  {
   "cell_type": "code",
   "execution_count": 49,
   "id": "85958c3d",
   "metadata": {},
   "outputs": [
    {
     "data": {
      "text/plain": [
       "7.38905609893065"
      ]
     },
     "execution_count": 49,
     "metadata": {},
     "output_type": "execute_result"
    }
   ],
   "source": [
    "from math import exp as exponential\n",
    "exponential(2)"
   ]
  },
  {
   "cell_type": "markdown",
   "id": "e6e19af8",
   "metadata": {},
   "source": [
    "<h2> Exercise </h2>\n",
    "\n",
    "**The Collatz conjecture**\n",
    "\n",
    "Define the following function: for each integer $n \\geq 2$ if $n$ is even, divide by $2$; if $n$ is odd, multiply by $3$ and add one. That is, $C(n)$ looks like\n",
    "$$\n",
    "    C(n) = \\begin{cases}\n",
    "        n / 2 & n \\text{ es par}  \\\\\n",
    "        3n + 1 & n \\text{ es impar}\n",
    "    \\end{cases}\n",
    "$$\n",
    "\n",
    "The Collatz conjecture says that regarless of the starting point $n$, if one performs the following calculation\n",
    "$$\n",
    "C^{(m)}(n)=\\underbrace{C(C(\\dots C(n)\\dots))}_{m \\text{ times}}\n",
    "$$\n",
    "then \n",
    "$$\n",
    "\\lim_{m\\to\\infty}C^{(m)}(n) = 1\\,.\n",
    "$$\n",
    "\n",
    "\n",
    "Write the function `collatz` that for a given $n\\geq 2$ returns the number $m$ of steps it takes for $C^{(m)}(n)$ to reach one. For example, if $n=3$, then `collatz`$(n)=7$ because we have the following sequence of recursive evaluations:\n",
    "```\n",
    "3 10 5 16 8 4 2 1 \n",
    "```\n",
    "```python\n",
    ">>> collatz(3)\n",
    "7\n",
    ">>> collatz(7)\n",
    "16\n",
    ">>> collatz(2 ** 100 - 1)\n",
    "108\n",
    ">>> collatz(63728127)\n",
    "949\n",
    "```\n",
    "\n",
    "How would you modify the code to also return the sequence of points."
   ]
  },
  {
   "cell_type": "markdown",
   "id": "9de0e4ef",
   "metadata": {},
   "source": [
    "## `*args` & `**kwargs`\n",
    "We use `*args` for additional arguments in a function and `**kwargs` for arguments with keys. We need them because sometimes we do not know the number of arguments we would need a priori."
   ]
  },
  {
   "cell_type": "code",
   "execution_count": 55,
   "id": "0b415898",
   "metadata": {},
   "outputs": [],
   "source": [
    "def function_args(*args):\n",
    "    print('Here args:', args)\n",
    "    print(args[2])"
   ]
  },
  {
   "cell_type": "code",
   "execution_count": 56,
   "id": "e0d7a738",
   "metadata": {},
   "outputs": [
    {
     "name": "stdout",
     "output_type": "stream",
     "text": [
      "Here args: (1, 2, 3, 4)\n",
      "3\n"
     ]
    }
   ],
   "source": [
    "function_args(1,2,3,4)"
   ]
  },
  {
   "cell_type": "code",
   "execution_count": 58,
   "id": "e470fda0",
   "metadata": {},
   "outputs": [
    {
     "name": "stdout",
     "output_type": "stream",
     "text": [
      "Here args: (1, 2, 3, 4, 5, 6, 7)\n",
      "3\n"
     ]
    }
   ],
   "source": [
    "function_args(1,2,3,4,5,6,7)"
   ]
  },
  {
   "cell_type": "code",
   "execution_count": 60,
   "id": "350dee5d",
   "metadata": {},
   "outputs": [],
   "source": [
    "def function_kwargs(**kwargs):\n",
    "    print(\"Here kwargs\", kwargs)\n",
    "    print(kwargs['a'])"
   ]
  },
  {
   "cell_type": "code",
   "execution_count": 61,
   "id": "1a2af49e",
   "metadata": {},
   "outputs": [
    {
     "name": "stdout",
     "output_type": "stream",
     "text": [
      "Here kwargs {'a': 1, 'b': 2, 'c': [1, 2, 3, 4], 'd': 'hola'}\n",
      "1\n"
     ]
    }
   ],
   "source": [
    "function_kwargs(a=1, b=2, c = [1,2,3,4], d = 'hola')"
   ]
  },
  {
   "cell_type": "code",
   "execution_count": 62,
   "id": "a4ad601a",
   "metadata": {},
   "outputs": [],
   "source": [
    "def function_args_kwargs(x= 'hello world', *args, **kwargs):\n",
    "    print(x)\n",
    "    print(args)\n",
    "    print(kwargs)"
   ]
  },
  {
   "cell_type": "code",
   "execution_count": 63,
   "id": "ac92aa2e",
   "metadata": {},
   "outputs": [
    {
     "name": "stdout",
     "output_type": "stream",
     "text": [
      "1\n",
      "(2, 3, 4, 5)\n",
      "{'a': 1, 'b': 2, 'c': 3}\n"
     ]
    }
   ],
   "source": [
    "function_args_kwargs(1,2,3,4,5,a=1,b=2,c=3)"
   ]
  },
  {
   "cell_type": "markdown",
   "id": "a78dba7b",
   "metadata": {},
   "source": [
    "<h2> Exercise </h2>\n",
    "\n",
    "1. Use `*args` to write a function called `unique` that takes `n` integers and returns a list with the unique values.\n",
    "\n",
    "```python\n",
    ">>> unique(1, 2, 3, 4, 2, 3, 4)\n",
    "[1, 2, 3, 4]\n",
    ">>> unique(1, 1, 2)\n",
    "[1, 2]\n",
    "```"
   ]
  },
  {
   "cell_type": "markdown",
   "id": "fc99406b",
   "metadata": {},
   "source": [
    "# OS, directories, and other useful stuff"
   ]
  },
  {
   "cell_type": "markdown",
   "id": "f2d871e0",
   "metadata": {},
   "source": [
    "```\n",
    "! lets us execute in the command line\n",
    "```"
   ]
  },
  {
   "cell_type": "code",
   "execution_count": 78,
   "id": "509be6ec",
   "metadata": {},
   "outputs": [
    {
     "name": "stdout",
     "output_type": "stream",
     "text": [
      "/Users/leandrosb/Documents/GitHub/online-ml-finance\r\n"
     ]
    }
   ],
   "source": [
    "!pwd"
   ]
  },
  {
   "cell_type": "code",
   "execution_count": 79,
   "id": "c147a8fe",
   "metadata": {},
   "outputs": [
    {
     "name": "stdout",
     "output_type": "stream",
     "text": [
      "00-intro-to-python.ipynb     README.md\r\n",
      "01-deep-learning-intro.ipynb \u001b[34mdata\u001b[m\u001b[m\r\n",
      "01-jax.ipynb                 optimal-exectution.ipynb\r\n"
     ]
    }
   ],
   "source": [
    "!ls ./"
   ]
  },
  {
   "cell_type": "markdown",
   "id": "f4a83144",
   "metadata": {},
   "source": [
    "### `open` (reading files)\n",
    "\n",
    "To open and read a file we use `open` (the first argument is the location)\n",
    "\n",
    "```python\n",
    "open(file, mode='r', buffering=-1, encoding=None, errors=None, newline=None, closefd=True, opener=None)\n",
    "```"
   ]
  },
  {
   "cell_type": "code",
   "execution_count": null,
   "id": "ba3dc80f",
   "metadata": {},
   "outputs": [],
   "source": []
  },
  {
   "cell_type": "code",
   "execution_count": null,
   "id": "0982de1b",
   "metadata": {},
   "outputs": [],
   "source": []
  }
 ],
 "metadata": {
  "kernelspec": {
   "display_name": "Python 3 (ipykernel)",
   "language": "python",
   "name": "python3"
  },
  "language_info": {
   "codemirror_mode": {
    "name": "ipython",
    "version": 3
   },
   "file_extension": ".py",
   "mimetype": "text/x-python",
   "name": "python",
   "nbconvert_exporter": "python",
   "pygments_lexer": "ipython3",
   "version": "3.10.9"
  }
 },
 "nbformat": 4,
 "nbformat_minor": 5
}
